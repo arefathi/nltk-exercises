{
 "cells": [
  {
   "cell_type": "code",
   "execution_count": 1,
   "id": "2df3a682-e496-40e0-b2ec-5c5b4c46a092",
   "metadata": {},
   "outputs": [
    {
     "name": "stdout",
     "output_type": "stream",
     "text": [
      "Collecting nltk\n",
      "  Downloading nltk-3.7-py3-none-any.whl (1.5 MB)\n",
      "\u001b[K     |████████████████████████████████| 1.5 MB 2.4 MB/s eta 0:00:01\n",
      "\u001b[?25hCollecting tqdm\n",
      "  Downloading tqdm-4.63.0-py2.py3-none-any.whl (76 kB)\n",
      "\u001b[K     |████████████████████████████████| 76 kB 6.7 MB/s  eta 0:00:01\n",
      "\u001b[?25hCollecting click\n",
      "  Downloading click-8.0.4-py3-none-any.whl (97 kB)\n",
      "\u001b[K     |████████████████████████████████| 97 kB 9.7 MB/s  eta 0:00:01\n",
      "\u001b[?25hCollecting joblib\n",
      "  Downloading joblib-1.1.0-py2.py3-none-any.whl (306 kB)\n",
      "\u001b[K     |████████████████████████████████| 306 kB 27.5 MB/s eta 0:00:01\n",
      "\u001b[?25hCollecting regex>=2021.8.3\n",
      "  Downloading regex-2022.3.15-cp39-cp39-manylinux_2_17_x86_64.manylinux2014_x86_64.whl (763 kB)\n",
      "\u001b[K     |████████████████████████████████| 763 kB 34.3 MB/s eta 0:00:01\n",
      "\u001b[?25hInstalling collected packages: tqdm, regex, joblib, click, nltk\n",
      "Successfully installed click-8.0.4 joblib-1.1.0 nltk-3.7 regex-2022.3.15 tqdm-4.63.0\n"
     ]
    }
   ],
   "source": [
    "#Install NLTK (Natural Language Toolkit)\n",
    "!pip install nltk"
   ]
  },
  {
   "cell_type": "code",
   "execution_count": 4,
   "id": "84529f6e-3738-4dcb-aac1-83c8160ed87c",
   "metadata": {},
   "outputs": [
    {
     "name": "stdout",
     "output_type": "stream",
     "text": [
      "NLTK Downloader\n",
      "---------------------------------------------------------------------------\n",
      "    d) Download   l) List    u) Update   c) Config   h) Help   q) Quit\n",
      "---------------------------------------------------------------------------\n"
     ]
    },
    {
     "name": "stdin",
     "output_type": "stream",
     "text": [
      "Downloader>  d\n"
     ]
    },
    {
     "name": "stdout",
     "output_type": "stream",
     "text": [
      "\n",
      "Download which package (l=list; x=cancel)?\n"
     ]
    },
    {
     "name": "stdin",
     "output_type": "stream",
     "text": [
      "  Identifier>  l\n"
     ]
    },
    {
     "name": "stdout",
     "output_type": "stream",
     "text": [
      "Packages:\n",
      "  [ ] abc................. Australian Broadcasting Commission 2006\n",
      "  [ ] alpino.............. Alpino Dutch Treebank\n",
      "  [ ] averaged_perceptron_tagger Averaged Perceptron Tagger\n",
      "  [ ] averaged_perceptron_tagger_ru Averaged Perceptron Tagger (Russian)\n",
      "  [ ] basque_grammars..... Grammars for Basque\n",
      "  [ ] biocreative_ppi..... BioCreAtIvE (Critical Assessment of Information\n",
      "                           Extraction Systems in Biology)\n",
      "  [ ] bllip_wsj_no_aux.... BLLIP Parser: WSJ Model\n",
      "  [ ] book_grammars....... Grammars from NLTK Book\n",
      "  [ ] brown............... Brown Corpus\n",
      "  [ ] brown_tei........... Brown Corpus (TEI XML Version)\n",
      "  [ ] cess_cat............ CESS-CAT Treebank\n",
      "  [ ] cess_esp............ CESS-ESP Treebank\n",
      "  [ ] chat80.............. Chat-80 Data Files\n",
      "  [ ] city_database....... City Database\n",
      "  [ ] cmudict............. The Carnegie Mellon Pronouncing Dictionary (0.6)\n",
      "  [ ] comparative_sentences Comparative Sentence Dataset\n",
      "  [ ] comtrans............ ComTrans Corpus Sample\n",
      "  [ ] conll2000........... CONLL 2000 Chunking Corpus\n",
      "  [ ] conll2002........... CONLL 2002 Named Entity Recognition Corpus\n"
     ]
    },
    {
     "name": "stdin",
     "output_type": "stream",
     "text": [
      "Hit Enter to continue:  abc................. Australian Broadcasting Commission 2006\n"
     ]
    },
    {
     "name": "stdout",
     "output_type": "stream",
     "text": [
      "  [ ] conll2007........... Dependency Treebanks from CoNLL 2007 (Catalan\n",
      "                           and Basque Subset)\n",
      "  [ ] crubadan............ Crubadan Corpus\n",
      "  [ ] dependency_treebank. Dependency Parsed Treebank\n",
      "  [ ] dolch............... Dolch Word List\n",
      "  [ ] europarl_raw........ Sample European Parliament Proceedings Parallel\n",
      "                           Corpus\n",
      "  [ ] extended_omw........ Extended Open Multilingual WordNet\n",
      "  [ ] floresta............ Portuguese Treebank\n",
      "  [ ] framenet_v15........ FrameNet 1.5\n",
      "  [ ] framenet_v17........ FrameNet 1.7\n",
      "  [ ] gazetteers.......... Gazeteer Lists\n",
      "  [ ] genesis............. Genesis Corpus\n",
      "  [ ] gutenberg........... Project Gutenberg Selections\n",
      "  [ ] ieer................ NIST IE-ER DATA SAMPLE\n",
      "  [ ] inaugural........... C-Span Inaugural Address Corpus\n",
      "  [ ] indian.............. Indian Language POS-Tagged Corpus\n",
      "  [ ] jeita............... JEITA Public Morphologically Tagged Corpus (in\n",
      "                           ChaSen format)\n",
      "  [ ] kimmo............... PC-KIMMO Data Files\n",
      "  [ ] knbc................ KNB Corpus (Annotated blog corpus)\n"
     ]
    },
    {
     "name": "stdin",
     "output_type": "stream",
     "text": [
      "Hit Enter to continue:  \n"
     ]
    },
    {
     "name": "stdout",
     "output_type": "stream",
     "text": [
      "  [ ] large_grammars...... Large context-free and feature-based grammars\n",
      "                           for parser comparison\n",
      "  [ ] lin_thesaurus....... Lin's Dependency Thesaurus\n",
      "  [ ] mac_morpho.......... MAC-MORPHO: Brazilian Portuguese news text with\n",
      "                           part-of-speech tags\n",
      "  [ ] machado............. Machado de Assis -- Obra Completa\n",
      "  [ ] masc_tagged......... MASC Tagged Corpus\n",
      "  [ ] maxent_ne_chunker... ACE Named Entity Chunker (Maximum entropy)\n",
      "  [ ] maxent_treebank_pos_tagger Treebank Part of Speech Tagger (Maximum entropy)\n",
      "  [ ] moses_sample........ Moses Sample Models\n",
      "  [ ] movie_reviews....... Sentiment Polarity Dataset Version 2.0\n",
      "  [ ] mte_teip5........... MULTEXT-East 1984 annotated corpus 4.0\n",
      "  [ ] mwa_ppdb............ The monolingual word aligner (Sultan et al.\n",
      "                           2015) subset of the Paraphrase Database.\n",
      "  [ ] names............... Names Corpus, Version 1.3 (1994-03-29)\n",
      "  [ ] nombank.1.0......... NomBank Corpus 1.0\n",
      "  [ ] nonbreaking_prefixes Non-Breaking Prefixes (Moses Decoder)\n",
      "  [ ] nps_chat............ NPS Chat\n",
      "  [ ] omw-1.4............. Open Multilingual Wordnet\n",
      "  [ ] omw................. Open Multilingual Wordnet\n",
      "  [ ] opinion_lexicon..... Opinion Lexicon\n"
     ]
    },
    {
     "name": "stdin",
     "output_type": "stream",
     "text": [
      "Hit Enter to continue:  \n"
     ]
    },
    {
     "name": "stdout",
     "output_type": "stream",
     "text": [
      "  [ ] panlex_swadesh...... PanLex Swadesh Corpora\n",
      "  [ ] paradigms........... Paradigm Corpus\n",
      "  [ ] pe08................ Cross-Framework and Cross-Domain Parser\n",
      "                           Evaluation Shared Task\n",
      "  [ ] perluniprops........ perluniprops: Index of Unicode Version 7.0.0\n",
      "                           character properties in Perl\n",
      "  [ ] pil................. The Patient Information Leaflet (PIL) Corpus\n",
      "  [ ] pl196x.............. Polish language of the XX century sixties\n",
      "  [ ] porter_test......... Porter Stemmer Test Files\n",
      "  [ ] ppattach............ Prepositional Phrase Attachment Corpus\n",
      "  [ ] problem_reports..... Problem Report Corpus\n",
      "  [ ] product_reviews_1... Product Reviews (5 Products)\n",
      "  [ ] product_reviews_2... Product Reviews (9 Products)\n",
      "  [ ] propbank............ Proposition Bank Corpus 1.0\n",
      "  [ ] pros_cons........... Pros and Cons\n",
      "  [ ] ptb................. Penn Treebank\n",
      "  [ ] punkt............... Punkt Tokenizer Models\n",
      "  [ ] qc.................. Experimental Data for Question Classification\n",
      "  [ ] reuters............. The Reuters-21578 benchmark corpus, ApteMod\n",
      "                           version\n",
      "  [ ] rslp................ RSLP Stemmer (Removedor de Sufixos da Lingua\n",
      "                           Portuguesa)\n"
     ]
    },
    {
     "name": "stdin",
     "output_type": "stream",
     "text": [
      "Hit Enter to continue:  \n"
     ]
    },
    {
     "name": "stdout",
     "output_type": "stream",
     "text": [
      "  [ ] rte................. PASCAL RTE Challenges 1, 2, and 3\n",
      "  [ ] sample_grammars..... Sample Grammars\n",
      "  [ ] semcor.............. SemCor 3.0\n",
      "  [ ] senseval............ SENSEVAL 2 Corpus: Sense Tagged Text\n",
      "  [ ] sentence_polarity... Sentence Polarity Dataset v1.0\n",
      "  [ ] sentiwordnet........ SentiWordNet\n",
      "  [ ] shakespeare......... Shakespeare XML Corpus Sample\n",
      "  [ ] sinica_treebank..... Sinica Treebank Corpus Sample\n",
      "  [ ] smultron............ SMULTRON Corpus Sample\n",
      "  [ ] snowball_data....... Snowball Data\n",
      "  [ ] spanish_grammars.... Grammars for Spanish\n",
      "  [ ] state_union......... C-Span State of the Union Address Corpus\n",
      "  [ ] stopwords........... Stopwords Corpus\n",
      "  [ ] subjectivity........ Subjectivity Dataset v1.0\n",
      "  [ ] swadesh............. Swadesh Wordlists\n",
      "  [ ] switchboard......... Switchboard Corpus Sample\n",
      "  [ ] tagsets............. Help on Tagsets\n",
      "  [ ] timit............... TIMIT Corpus Sample\n",
      "  [ ] toolbox............. Toolbox Sample Files\n",
      "  [ ] treebank............ Penn Treebank Sample\n",
      "  [ ] twitter_samples..... Twitter Samples\n"
     ]
    },
    {
     "name": "stdin",
     "output_type": "stream",
     "text": [
      "Hit Enter to continue:  \n"
     ]
    },
    {
     "name": "stdout",
     "output_type": "stream",
     "text": [
      "  [ ] udhr2............... Universal Declaration of Human Rights Corpus\n",
      "                           (Unicode Version)\n",
      "  [ ] udhr................ Universal Declaration of Human Rights Corpus\n",
      "  [ ] unicode_samples..... Unicode Samples\n",
      "  [ ] universal_tagset.... Mappings to the Universal Part-of-Speech Tagset\n",
      "  [ ] universal_treebanks_v20 Universal Treebanks Version 2.0\n",
      "  [ ] vader_lexicon....... VADER Sentiment Lexicon\n",
      "  [ ] verbnet3............ VerbNet Lexicon, Version 3.3\n",
      "  [ ] verbnet............. VerbNet Lexicon, Version 2.1\n",
      "  [ ] webtext............. Web Text Corpus\n",
      "  [ ] wmt15_eval.......... Evaluation data from WMT15\n",
      "  [ ] word2vec_sample..... Word2Vec Sample\n",
      "  [ ] wordnet2021......... Open English Wordnet 2021\n",
      "  [ ] wordnet31........... Wordnet 3.1\n",
      "  [ ] wordnet............. WordNet\n",
      "  [ ] wordnet_ic.......... WordNet-InfoContent\n",
      "  [ ] words............... Word Lists\n",
      "  [ ] ycoe................ York-Toronto-Helsinki Parsed Corpus of Old\n",
      "                           English Prose\n",
      "\n",
      "Collections:\n",
      "  [ ] all-corpora......... All the corpora\n"
     ]
    },
    {
     "name": "stdin",
     "output_type": "stream",
     "text": [
      "Hit Enter to continue:  \n"
     ]
    },
    {
     "name": "stdout",
     "output_type": "stream",
     "text": [
      "  [ ] all-nltk............ All packages available on nltk_data gh-pages\n",
      "                           branch\n",
      "  [ ] all................. All packages\n",
      "  [ ] book................ Everything used in the NLTK Book\n",
      "  [ ] popular............. Popular packages\n",
      "  [ ] tests............... Packages for running tests\n",
      "  [ ] third-party......... Third-party data packages\n",
      "\n",
      "([*] marks installed packages)\n",
      "\n",
      "Download which package (l=list; x=cancel)?\n"
     ]
    },
    {
     "name": "stdin",
     "output_type": "stream",
     "text": [
      "  Identifier>  \n"
     ]
    },
    {
     "name": "stdout",
     "output_type": "stream",
     "text": [
      "\n",
      "---------------------------------------------------------------------------\n",
      "    d) Download   l) List    u) Update   c) Config   h) Help   q) Quit\n",
      "---------------------------------------------------------------------------\n"
     ]
    },
    {
     "name": "stdin",
     "output_type": "stream",
     "text": [
      "Downloader>  \n"
     ]
    },
    {
     "name": "stdout",
     "output_type": "stream",
     "text": [
      "\n",
      "---------------------------------------------------------------------------\n",
      "    d) Download   l) List    u) Update   c) Config   h) Help   q) Quit\n",
      "---------------------------------------------------------------------------\n"
     ]
    },
    {
     "name": "stdin",
     "output_type": "stream",
     "text": [
      "Downloader>  d\n"
     ]
    },
    {
     "name": "stdout",
     "output_type": "stream",
     "text": [
      "\n",
      "Download which package (l=list; x=cancel)?\n"
     ]
    },
    {
     "name": "stdin",
     "output_type": "stream",
     "text": [
      "  Identifier>  \n"
     ]
    },
    {
     "name": "stdout",
     "output_type": "stream",
     "text": [
      "\n",
      "---------------------------------------------------------------------------\n",
      "    d) Download   l) List    u) Update   c) Config   h) Help   q) Quit\n",
      "---------------------------------------------------------------------------\n"
     ]
    },
    {
     "name": "stdin",
     "output_type": "stream",
     "text": [
      "Downloader>  \n"
     ]
    },
    {
     "name": "stdout",
     "output_type": "stream",
     "text": [
      "\n",
      "---------------------------------------------------------------------------\n",
      "    d) Download   l) List    u) Update   c) Config   h) Help   q) Quit\n",
      "---------------------------------------------------------------------------\n"
     ]
    },
    {
     "name": "stdin",
     "output_type": "stream",
     "text": [
      "Downloader>  \n"
     ]
    },
    {
     "name": "stdout",
     "output_type": "stream",
     "text": [
      "\n",
      "---------------------------------------------------------------------------\n",
      "    d) Download   l) List    u) Update   c) Config   h) Help   q) Quit\n",
      "---------------------------------------------------------------------------\n"
     ]
    },
    {
     "name": "stdin",
     "output_type": "stream",
     "text": [
      "Downloader>  d\n"
     ]
    },
    {
     "name": "stdout",
     "output_type": "stream",
     "text": [
      "\n",
      "Download which package (l=list; x=cancel)?\n"
     ]
    },
    {
     "name": "stdin",
     "output_type": "stream",
     "text": [
      "  Identifier>  l\n"
     ]
    },
    {
     "name": "stdout",
     "output_type": "stream",
     "text": [
      "Packages:\n",
      "  [ ] abc................. Australian Broadcasting Commission 2006\n",
      "  [ ] alpino.............. Alpino Dutch Treebank\n",
      "  [ ] averaged_perceptron_tagger Averaged Perceptron Tagger\n",
      "  [ ] averaged_perceptron_tagger_ru Averaged Perceptron Tagger (Russian)\n",
      "  [ ] basque_grammars..... Grammars for Basque\n",
      "  [ ] biocreative_ppi..... BioCreAtIvE (Critical Assessment of Information\n",
      "                           Extraction Systems in Biology)\n",
      "  [ ] bllip_wsj_no_aux.... BLLIP Parser: WSJ Model\n",
      "  [ ] book_grammars....... Grammars from NLTK Book\n",
      "  [ ] brown............... Brown Corpus\n",
      "  [ ] brown_tei........... Brown Corpus (TEI XML Version)\n",
      "  [ ] cess_cat............ CESS-CAT Treebank\n",
      "  [ ] cess_esp............ CESS-ESP Treebank\n",
      "  [ ] chat80.............. Chat-80 Data Files\n",
      "  [ ] city_database....... City Database\n",
      "  [ ] cmudict............. The Carnegie Mellon Pronouncing Dictionary (0.6)\n",
      "  [ ] comparative_sentences Comparative Sentence Dataset\n",
      "  [ ] comtrans............ ComTrans Corpus Sample\n",
      "  [ ] conll2000........... CONLL 2000 Chunking Corpus\n",
      "  [ ] conll2002........... CONLL 2002 Named Entity Recognition Corpus\n"
     ]
    },
    {
     "name": "stdin",
     "output_type": "stream",
     "text": [
      "Hit Enter to continue:  \n"
     ]
    },
    {
     "name": "stdout",
     "output_type": "stream",
     "text": [
      "  [ ] conll2007........... Dependency Treebanks from CoNLL 2007 (Catalan\n",
      "                           and Basque Subset)\n",
      "  [ ] crubadan............ Crubadan Corpus\n",
      "  [ ] dependency_treebank. Dependency Parsed Treebank\n",
      "  [ ] dolch............... Dolch Word List\n",
      "  [ ] europarl_raw........ Sample European Parliament Proceedings Parallel\n",
      "                           Corpus\n",
      "  [ ] extended_omw........ Extended Open Multilingual WordNet\n",
      "  [ ] floresta............ Portuguese Treebank\n",
      "  [ ] framenet_v15........ FrameNet 1.5\n",
      "  [ ] framenet_v17........ FrameNet 1.7\n",
      "  [ ] gazetteers.......... Gazeteer Lists\n",
      "  [ ] genesis............. Genesis Corpus\n",
      "  [ ] gutenberg........... Project Gutenberg Selections\n",
      "  [ ] ieer................ NIST IE-ER DATA SAMPLE\n",
      "  [ ] inaugural........... C-Span Inaugural Address Corpus\n",
      "  [ ] indian.............. Indian Language POS-Tagged Corpus\n",
      "  [ ] jeita............... JEITA Public Morphologically Tagged Corpus (in\n",
      "                           ChaSen format)\n",
      "  [ ] kimmo............... PC-KIMMO Data Files\n",
      "  [ ] knbc................ KNB Corpus (Annotated blog corpus)\n"
     ]
    },
    {
     "name": "stdin",
     "output_type": "stream",
     "text": [
      "Hit Enter to continue:  \n"
     ]
    },
    {
     "name": "stdout",
     "output_type": "stream",
     "text": [
      "  [ ] large_grammars...... Large context-free and feature-based grammars\n",
      "                           for parser comparison\n",
      "  [ ] lin_thesaurus....... Lin's Dependency Thesaurus\n",
      "  [ ] mac_morpho.......... MAC-MORPHO: Brazilian Portuguese news text with\n",
      "                           part-of-speech tags\n",
      "  [ ] machado............. Machado de Assis -- Obra Completa\n",
      "  [ ] masc_tagged......... MASC Tagged Corpus\n",
      "  [ ] maxent_ne_chunker... ACE Named Entity Chunker (Maximum entropy)\n",
      "  [ ] maxent_treebank_pos_tagger Treebank Part of Speech Tagger (Maximum entropy)\n",
      "  [ ] moses_sample........ Moses Sample Models\n",
      "  [ ] movie_reviews....... Sentiment Polarity Dataset Version 2.0\n",
      "  [ ] mte_teip5........... MULTEXT-East 1984 annotated corpus 4.0\n",
      "  [ ] mwa_ppdb............ The monolingual word aligner (Sultan et al.\n",
      "                           2015) subset of the Paraphrase Database.\n",
      "  [ ] names............... Names Corpus, Version 1.3 (1994-03-29)\n",
      "  [ ] nombank.1.0......... NomBank Corpus 1.0\n",
      "  [ ] nonbreaking_prefixes Non-Breaking Prefixes (Moses Decoder)\n",
      "  [ ] nps_chat............ NPS Chat\n",
      "  [ ] omw-1.4............. Open Multilingual Wordnet\n",
      "  [ ] omw................. Open Multilingual Wordnet\n",
      "  [ ] opinion_lexicon..... Opinion Lexicon\n"
     ]
    },
    {
     "name": "stdin",
     "output_type": "stream",
     "text": [
      "Hit Enter to continue:  \n"
     ]
    },
    {
     "name": "stdout",
     "output_type": "stream",
     "text": [
      "  [ ] panlex_swadesh...... PanLex Swadesh Corpora\n",
      "  [ ] paradigms........... Paradigm Corpus\n",
      "  [ ] pe08................ Cross-Framework and Cross-Domain Parser\n",
      "                           Evaluation Shared Task\n",
      "  [ ] perluniprops........ perluniprops: Index of Unicode Version 7.0.0\n",
      "                           character properties in Perl\n",
      "  [ ] pil................. The Patient Information Leaflet (PIL) Corpus\n",
      "  [ ] pl196x.............. Polish language of the XX century sixties\n",
      "  [ ] porter_test......... Porter Stemmer Test Files\n",
      "  [ ] ppattach............ Prepositional Phrase Attachment Corpus\n",
      "  [ ] problem_reports..... Problem Report Corpus\n",
      "  [ ] product_reviews_1... Product Reviews (5 Products)\n",
      "  [ ] product_reviews_2... Product Reviews (9 Products)\n",
      "  [ ] propbank............ Proposition Bank Corpus 1.0\n",
      "  [ ] pros_cons........... Pros and Cons\n",
      "  [ ] ptb................. Penn Treebank\n",
      "  [ ] punkt............... Punkt Tokenizer Models\n",
      "  [ ] qc.................. Experimental Data for Question Classification\n",
      "  [ ] reuters............. The Reuters-21578 benchmark corpus, ApteMod\n",
      "                           version\n",
      "  [ ] rslp................ RSLP Stemmer (Removedor de Sufixos da Lingua\n",
      "                           Portuguesa)\n"
     ]
    },
    {
     "name": "stdin",
     "output_type": "stream",
     "text": [
      "Hit Enter to continue:  \n"
     ]
    },
    {
     "name": "stdout",
     "output_type": "stream",
     "text": [
      "  [ ] rte................. PASCAL RTE Challenges 1, 2, and 3\n",
      "  [ ] sample_grammars..... Sample Grammars\n",
      "  [ ] semcor.............. SemCor 3.0\n",
      "  [ ] senseval............ SENSEVAL 2 Corpus: Sense Tagged Text\n",
      "  [ ] sentence_polarity... Sentence Polarity Dataset v1.0\n",
      "  [ ] sentiwordnet........ SentiWordNet\n",
      "  [ ] shakespeare......... Shakespeare XML Corpus Sample\n",
      "  [ ] sinica_treebank..... Sinica Treebank Corpus Sample\n",
      "  [ ] smultron............ SMULTRON Corpus Sample\n",
      "  [ ] snowball_data....... Snowball Data\n",
      "  [ ] spanish_grammars.... Grammars for Spanish\n",
      "  [ ] state_union......... C-Span State of the Union Address Corpus\n",
      "  [ ] stopwords........... Stopwords Corpus\n",
      "  [ ] subjectivity........ Subjectivity Dataset v1.0\n",
      "  [ ] swadesh............. Swadesh Wordlists\n",
      "  [ ] switchboard......... Switchboard Corpus Sample\n",
      "  [ ] tagsets............. Help on Tagsets\n",
      "  [ ] timit............... TIMIT Corpus Sample\n",
      "  [ ] toolbox............. Toolbox Sample Files\n",
      "  [ ] treebank............ Penn Treebank Sample\n",
      "  [ ] twitter_samples..... Twitter Samples\n"
     ]
    },
    {
     "name": "stdin",
     "output_type": "stream",
     "text": [
      "Hit Enter to continue:  \n"
     ]
    },
    {
     "name": "stdout",
     "output_type": "stream",
     "text": [
      "  [ ] udhr2............... Universal Declaration of Human Rights Corpus\n",
      "                           (Unicode Version)\n",
      "  [ ] udhr................ Universal Declaration of Human Rights Corpus\n",
      "  [ ] unicode_samples..... Unicode Samples\n",
      "  [ ] universal_tagset.... Mappings to the Universal Part-of-Speech Tagset\n",
      "  [ ] universal_treebanks_v20 Universal Treebanks Version 2.0\n",
      "  [ ] vader_lexicon....... VADER Sentiment Lexicon\n",
      "  [ ] verbnet3............ VerbNet Lexicon, Version 3.3\n",
      "  [ ] verbnet............. VerbNet Lexicon, Version 2.1\n",
      "  [ ] webtext............. Web Text Corpus\n",
      "  [ ] wmt15_eval.......... Evaluation data from WMT15\n",
      "  [ ] word2vec_sample..... Word2Vec Sample\n",
      "  [ ] wordnet2021......... Open English Wordnet 2021\n",
      "  [ ] wordnet31........... Wordnet 3.1\n",
      "  [ ] wordnet............. WordNet\n",
      "  [ ] wordnet_ic.......... WordNet-InfoContent\n",
      "  [ ] words............... Word Lists\n",
      "  [ ] ycoe................ York-Toronto-Helsinki Parsed Corpus of Old\n",
      "                           English Prose\n",
      "\n",
      "Collections:\n",
      "  [ ] all-corpora......... All the corpora\n"
     ]
    },
    {
     "name": "stdin",
     "output_type": "stream",
     "text": [
      "Hit Enter to continue:  \n"
     ]
    },
    {
     "name": "stdout",
     "output_type": "stream",
     "text": [
      "  [ ] all-nltk............ All packages available on nltk_data gh-pages\n",
      "                           branch\n",
      "  [ ] all................. All packages\n",
      "  [ ] book................ Everything used in the NLTK Book\n",
      "  [ ] popular............. Popular packages\n",
      "  [ ] tests............... Packages for running tests\n",
      "  [ ] third-party......... Third-party data packages\n",
      "\n",
      "([*] marks installed packages)\n",
      "\n",
      "Download which package (l=list; x=cancel)?\n"
     ]
    },
    {
     "name": "stdin",
     "output_type": "stream",
     "text": [
      "  Identifier>  *\n"
     ]
    },
    {
     "name": "stderr",
     "output_type": "stream",
     "text": [
      "    Error loading *: Package '*' not found in index\n"
     ]
    },
    {
     "name": "stdout",
     "output_type": "stream",
     "text": [
      "\n",
      "---------------------------------------------------------------------------\n",
      "    d) Download   l) List    u) Update   c) Config   h) Help   q) Quit\n",
      "---------------------------------------------------------------------------\n"
     ]
    },
    {
     "name": "stdin",
     "output_type": "stream",
     "text": [
      "Downloader>  d\n"
     ]
    },
    {
     "name": "stdout",
     "output_type": "stream",
     "text": [
      "\n",
      "Download which package (l=list; x=cancel)?\n"
     ]
    },
    {
     "name": "stdin",
     "output_type": "stream",
     "text": [
      "  Identifier>  l\n"
     ]
    },
    {
     "name": "stdout",
     "output_type": "stream",
     "text": [
      "Packages:\n",
      "  [ ] abc................. Australian Broadcasting Commission 2006\n",
      "  [ ] alpino.............. Alpino Dutch Treebank\n",
      "  [ ] averaged_perceptron_tagger Averaged Perceptron Tagger\n",
      "  [ ] averaged_perceptron_tagger_ru Averaged Perceptron Tagger (Russian)\n",
      "  [ ] basque_grammars..... Grammars for Basque\n",
      "  [ ] biocreative_ppi..... BioCreAtIvE (Critical Assessment of Information\n",
      "                           Extraction Systems in Biology)\n",
      "  [ ] bllip_wsj_no_aux.... BLLIP Parser: WSJ Model\n",
      "  [ ] book_grammars....... Grammars from NLTK Book\n",
      "  [ ] brown............... Brown Corpus\n",
      "  [ ] brown_tei........... Brown Corpus (TEI XML Version)\n",
      "  [ ] cess_cat............ CESS-CAT Treebank\n",
      "  [ ] cess_esp............ CESS-ESP Treebank\n",
      "  [ ] chat80.............. Chat-80 Data Files\n",
      "  [ ] city_database....... City Database\n",
      "  [ ] cmudict............. The Carnegie Mellon Pronouncing Dictionary (0.6)\n",
      "  [ ] comparative_sentences Comparative Sentence Dataset\n",
      "  [ ] comtrans............ ComTrans Corpus Sample\n",
      "  [ ] conll2000........... CONLL 2000 Chunking Corpus\n",
      "  [ ] conll2002........... CONLL 2002 Named Entity Recognition Corpus\n"
     ]
    },
    {
     "name": "stdin",
     "output_type": "stream",
     "text": [
      "Hit Enter to continue:  \n"
     ]
    },
    {
     "name": "stdout",
     "output_type": "stream",
     "text": [
      "  [ ] conll2007........... Dependency Treebanks from CoNLL 2007 (Catalan\n",
      "                           and Basque Subset)\n",
      "  [ ] crubadan............ Crubadan Corpus\n",
      "  [ ] dependency_treebank. Dependency Parsed Treebank\n",
      "  [ ] dolch............... Dolch Word List\n",
      "  [ ] europarl_raw........ Sample European Parliament Proceedings Parallel\n",
      "                           Corpus\n",
      "  [ ] extended_omw........ Extended Open Multilingual WordNet\n",
      "  [ ] floresta............ Portuguese Treebank\n",
      "  [ ] framenet_v15........ FrameNet 1.5\n",
      "  [ ] framenet_v17........ FrameNet 1.7\n",
      "  [ ] gazetteers.......... Gazeteer Lists\n",
      "  [ ] genesis............. Genesis Corpus\n",
      "  [ ] gutenberg........... Project Gutenberg Selections\n",
      "  [ ] ieer................ NIST IE-ER DATA SAMPLE\n",
      "  [ ] inaugural........... C-Span Inaugural Address Corpus\n",
      "  [ ] indian.............. Indian Language POS-Tagged Corpus\n",
      "  [ ] jeita............... JEITA Public Morphologically Tagged Corpus (in\n",
      "                           ChaSen format)\n",
      "  [ ] kimmo............... PC-KIMMO Data Files\n",
      "  [ ] knbc................ KNB Corpus (Annotated blog corpus)\n"
     ]
    },
    {
     "name": "stdin",
     "output_type": "stream",
     "text": [
      "Hit Enter to continue:  \n"
     ]
    },
    {
     "name": "stdout",
     "output_type": "stream",
     "text": [
      "  [ ] large_grammars...... Large context-free and feature-based grammars\n",
      "                           for parser comparison\n",
      "  [ ] lin_thesaurus....... Lin's Dependency Thesaurus\n",
      "  [ ] mac_morpho.......... MAC-MORPHO: Brazilian Portuguese news text with\n",
      "                           part-of-speech tags\n",
      "  [ ] machado............. Machado de Assis -- Obra Completa\n",
      "  [ ] masc_tagged......... MASC Tagged Corpus\n",
      "  [ ] maxent_ne_chunker... ACE Named Entity Chunker (Maximum entropy)\n",
      "  [ ] maxent_treebank_pos_tagger Treebank Part of Speech Tagger (Maximum entropy)\n",
      "  [ ] moses_sample........ Moses Sample Models\n",
      "  [ ] movie_reviews....... Sentiment Polarity Dataset Version 2.0\n",
      "  [ ] mte_teip5........... MULTEXT-East 1984 annotated corpus 4.0\n",
      "  [ ] mwa_ppdb............ The monolingual word aligner (Sultan et al.\n",
      "                           2015) subset of the Paraphrase Database.\n",
      "  [ ] names............... Names Corpus, Version 1.3 (1994-03-29)\n",
      "  [ ] nombank.1.0......... NomBank Corpus 1.0\n",
      "  [ ] nonbreaking_prefixes Non-Breaking Prefixes (Moses Decoder)\n",
      "  [ ] nps_chat............ NPS Chat\n",
      "  [ ] omw-1.4............. Open Multilingual Wordnet\n",
      "  [ ] omw................. Open Multilingual Wordnet\n",
      "  [ ] opinion_lexicon..... Opinion Lexicon\n"
     ]
    },
    {
     "name": "stdin",
     "output_type": "stream",
     "text": [
      "Hit Enter to continue:  \n"
     ]
    },
    {
     "name": "stdout",
     "output_type": "stream",
     "text": [
      "  [ ] panlex_swadesh...... PanLex Swadesh Corpora\n",
      "  [ ] paradigms........... Paradigm Corpus\n",
      "  [ ] pe08................ Cross-Framework and Cross-Domain Parser\n",
      "                           Evaluation Shared Task\n",
      "  [ ] perluniprops........ perluniprops: Index of Unicode Version 7.0.0\n",
      "                           character properties in Perl\n",
      "  [ ] pil................. The Patient Information Leaflet (PIL) Corpus\n",
      "  [ ] pl196x.............. Polish language of the XX century sixties\n",
      "  [ ] porter_test......... Porter Stemmer Test Files\n",
      "  [ ] ppattach............ Prepositional Phrase Attachment Corpus\n",
      "  [ ] problem_reports..... Problem Report Corpus\n",
      "  [ ] product_reviews_1... Product Reviews (5 Products)\n",
      "  [ ] product_reviews_2... Product Reviews (9 Products)\n",
      "  [ ] propbank............ Proposition Bank Corpus 1.0\n",
      "  [ ] pros_cons........... Pros and Cons\n",
      "  [ ] ptb................. Penn Treebank\n",
      "  [ ] punkt............... Punkt Tokenizer Models\n",
      "  [ ] qc.................. Experimental Data for Question Classification\n",
      "  [ ] reuters............. The Reuters-21578 benchmark corpus, ApteMod\n",
      "                           version\n",
      "  [ ] rslp................ RSLP Stemmer (Removedor de Sufixos da Lingua\n",
      "                           Portuguesa)\n"
     ]
    },
    {
     "name": "stdin",
     "output_type": "stream",
     "text": [
      "Hit Enter to continue:  \n"
     ]
    },
    {
     "name": "stdout",
     "output_type": "stream",
     "text": [
      "  [ ] rte................. PASCAL RTE Challenges 1, 2, and 3\n",
      "  [ ] sample_grammars..... Sample Grammars\n",
      "  [ ] semcor.............. SemCor 3.0\n",
      "  [ ] senseval............ SENSEVAL 2 Corpus: Sense Tagged Text\n",
      "  [ ] sentence_polarity... Sentence Polarity Dataset v1.0\n",
      "  [ ] sentiwordnet........ SentiWordNet\n",
      "  [ ] shakespeare......... Shakespeare XML Corpus Sample\n",
      "  [ ] sinica_treebank..... Sinica Treebank Corpus Sample\n",
      "  [ ] smultron............ SMULTRON Corpus Sample\n",
      "  [ ] snowball_data....... Snowball Data\n",
      "  [ ] spanish_grammars.... Grammars for Spanish\n",
      "  [ ] state_union......... C-Span State of the Union Address Corpus\n",
      "  [ ] stopwords........... Stopwords Corpus\n",
      "  [ ] subjectivity........ Subjectivity Dataset v1.0\n",
      "  [ ] swadesh............. Swadesh Wordlists\n",
      "  [ ] switchboard......... Switchboard Corpus Sample\n",
      "  [ ] tagsets............. Help on Tagsets\n",
      "  [ ] timit............... TIMIT Corpus Sample\n",
      "  [ ] toolbox............. Toolbox Sample Files\n",
      "  [ ] treebank............ Penn Treebank Sample\n",
      "  [ ] twitter_samples..... Twitter Samples\n"
     ]
    },
    {
     "name": "stdin",
     "output_type": "stream",
     "text": [
      "Hit Enter to continue:  \n"
     ]
    },
    {
     "name": "stdout",
     "output_type": "stream",
     "text": [
      "  [ ] udhr2............... Universal Declaration of Human Rights Corpus\n",
      "                           (Unicode Version)\n",
      "  [ ] udhr................ Universal Declaration of Human Rights Corpus\n",
      "  [ ] unicode_samples..... Unicode Samples\n",
      "  [ ] universal_tagset.... Mappings to the Universal Part-of-Speech Tagset\n",
      "  [ ] universal_treebanks_v20 Universal Treebanks Version 2.0\n",
      "  [ ] vader_lexicon....... VADER Sentiment Lexicon\n",
      "  [ ] verbnet3............ VerbNet Lexicon, Version 3.3\n",
      "  [ ] verbnet............. VerbNet Lexicon, Version 2.1\n",
      "  [ ] webtext............. Web Text Corpus\n",
      "  [ ] wmt15_eval.......... Evaluation data from WMT15\n",
      "  [ ] word2vec_sample..... Word2Vec Sample\n",
      "  [ ] wordnet2021......... Open English Wordnet 2021\n",
      "  [ ] wordnet31........... Wordnet 3.1\n",
      "  [ ] wordnet............. WordNet\n",
      "  [ ] wordnet_ic.......... WordNet-InfoContent\n",
      "  [ ] words............... Word Lists\n",
      "  [ ] ycoe................ York-Toronto-Helsinki Parsed Corpus of Old\n",
      "                           English Prose\n",
      "\n",
      "Collections:\n",
      "  [ ] all-corpora......... All the corpora\n"
     ]
    },
    {
     "name": "stdin",
     "output_type": "stream",
     "text": [
      "Hit Enter to continue:  \n"
     ]
    },
    {
     "name": "stdout",
     "output_type": "stream",
     "text": [
      "  [ ] all-nltk............ All packages available on nltk_data gh-pages\n",
      "                           branch\n",
      "  [ ] all................. All packages\n",
      "  [ ] book................ Everything used in the NLTK Book\n",
      "  [ ] popular............. Popular packages\n",
      "  [ ] tests............... Packages for running tests\n",
      "  [ ] third-party......... Third-party data packages\n",
      "\n",
      "([*] marks installed packages)\n",
      "\n",
      "Download which package (l=list; x=cancel)?\n"
     ]
    },
    {
     "name": "stdin",
     "output_type": "stream",
     "text": [
      "  Identifier>  book\n"
     ]
    },
    {
     "name": "stderr",
     "output_type": "stream",
     "text": [
      "    Downloading collection 'book'\n",
      "       | \n",
      "       | Downloading package abc to /home/studio-lab-user/nltk_data...\n",
      "       |   Unzipping corpora/abc.zip.\n",
      "       | Downloading package brown to /home/studio-lab-\n",
      "       |     user/nltk_data...\n",
      "       |   Unzipping corpora/brown.zip.\n",
      "       | Downloading package chat80 to /home/studio-lab-\n",
      "       |     user/nltk_data...\n",
      "       |   Unzipping corpora/chat80.zip.\n",
      "       | Downloading package cmudict to /home/studio-lab-\n",
      "       |     user/nltk_data...\n",
      "       |   Unzipping corpora/cmudict.zip.\n",
      "       | Downloading package conll2000 to /home/studio-lab-\n",
      "       |     user/nltk_data...\n",
      "       |   Unzipping corpora/conll2000.zip.\n",
      "       | Downloading package conll2002 to /home/studio-lab-\n",
      "       |     user/nltk_data...\n",
      "       |   Unzipping corpora/conll2002.zip.\n",
      "       | Downloading package dependency_treebank to /home/studio-lab-\n",
      "       |     user/nltk_data...\n",
      "       |   Unzipping corpora/dependency_treebank.zip.\n",
      "       | Downloading package genesis to /home/studio-lab-\n",
      "       |     user/nltk_data...\n",
      "       |   Unzipping corpora/genesis.zip.\n",
      "       | Downloading package gutenberg to /home/studio-lab-\n",
      "       |     user/nltk_data...\n",
      "       |   Unzipping corpora/gutenberg.zip.\n",
      "       | Downloading package ieer to /home/studio-lab-\n",
      "       |     user/nltk_data...\n",
      "       |   Unzipping corpora/ieer.zip.\n",
      "       | Downloading package inaugural to /home/studio-lab-\n",
      "       |     user/nltk_data...\n",
      "       |   Unzipping corpora/inaugural.zip.\n",
      "       | Downloading package movie_reviews to /home/studio-lab-\n",
      "       |     user/nltk_data...\n",
      "       |   Unzipping corpora/movie_reviews.zip.\n",
      "       | Downloading package nps_chat to /home/studio-lab-\n",
      "       |     user/nltk_data...\n",
      "       |   Unzipping corpora/nps_chat.zip.\n",
      "       | Downloading package names to /home/studio-lab-\n",
      "       |     user/nltk_data...\n",
      "       |   Unzipping corpora/names.zip.\n",
      "       | Downloading package ppattach to /home/studio-lab-\n",
      "       |     user/nltk_data...\n",
      "       |   Unzipping corpora/ppattach.zip.\n",
      "       | Downloading package reuters to /home/studio-lab-\n",
      "       |     user/nltk_data...\n",
      "       | Downloading package senseval to /home/studio-lab-\n",
      "       |     user/nltk_data...\n",
      "       |   Unzipping corpora/senseval.zip.\n",
      "       | Downloading package state_union to /home/studio-lab-\n",
      "       |     user/nltk_data...\n",
      "       |   Unzipping corpora/state_union.zip.\n",
      "       | Downloading package stopwords to /home/studio-lab-\n",
      "       |     user/nltk_data...\n",
      "       |   Unzipping corpora/stopwords.zip.\n",
      "       | Downloading package swadesh to /home/studio-lab-\n",
      "       |     user/nltk_data...\n",
      "       |   Unzipping corpora/swadesh.zip.\n",
      "       | Downloading package timit to /home/studio-lab-\n",
      "       |     user/nltk_data...\n",
      "       |   Unzipping corpora/timit.zip.\n",
      "       | Downloading package treebank to /home/studio-lab-\n",
      "       |     user/nltk_data...\n",
      "       |   Unzipping corpora/treebank.zip.\n",
      "       | Downloading package toolbox to /home/studio-lab-\n",
      "       |     user/nltk_data...\n",
      "       |   Unzipping corpora/toolbox.zip.\n",
      "       | Downloading package udhr to /home/studio-lab-\n",
      "       |     user/nltk_data...\n",
      "       |   Unzipping corpora/udhr.zip.\n",
      "       | Downloading package udhr2 to /home/studio-lab-\n",
      "       |     user/nltk_data...\n",
      "       |   Unzipping corpora/udhr2.zip.\n",
      "       | Downloading package unicode_samples to /home/studio-lab-\n",
      "       |     user/nltk_data...\n",
      "       |   Unzipping corpora/unicode_samples.zip.\n",
      "       | Downloading package webtext to /home/studio-lab-\n",
      "       |     user/nltk_data...\n",
      "       |   Unzipping corpora/webtext.zip.\n",
      "       | Downloading package wordnet to /home/studio-lab-\n",
      "       |     user/nltk_data...\n",
      "       |   Unzipping corpora/wordnet.zip.\n",
      "       | Downloading package wordnet_ic to /home/studio-lab-\n",
      "       |     user/nltk_data...\n",
      "       |   Unzipping corpora/wordnet_ic.zip.\n",
      "       | Downloading package words to /home/studio-lab-\n",
      "       |     user/nltk_data...\n",
      "       |   Unzipping corpora/words.zip.\n",
      "       | Downloading package maxent_treebank_pos_tagger to\n",
      "       |     /home/studio-lab-user/nltk_data...\n",
      "       |   Unzipping taggers/maxent_treebank_pos_tagger.zip.\n",
      "       | Downloading package maxent_ne_chunker to /home/studio-lab-\n",
      "       |     user/nltk_data...\n",
      "       |   Unzipping chunkers/maxent_ne_chunker.zip.\n",
      "       | Downloading package universal_tagset to /home/studio-lab-\n",
      "       |     user/nltk_data...\n",
      "       |   Unzipping taggers/universal_tagset.zip.\n",
      "       | Downloading package punkt to /home/studio-lab-\n",
      "       |     user/nltk_data...\n",
      "       |   Unzipping tokenizers/punkt.zip.\n",
      "       | Downloading package book_grammars to /home/studio-lab-\n",
      "       |     user/nltk_data...\n",
      "       |   Unzipping grammars/book_grammars.zip.\n",
      "       | Downloading package city_database to /home/studio-lab-\n",
      "       |     user/nltk_data...\n",
      "       |   Unzipping corpora/city_database.zip.\n",
      "       | Downloading package tagsets to /home/studio-lab-\n",
      "       |     user/nltk_data...\n",
      "       |   Unzipping help/tagsets.zip.\n",
      "       | Downloading package panlex_swadesh to /home/studio-lab-\n",
      "       |     user/nltk_data...\n",
      "       | Downloading package averaged_perceptron_tagger to\n",
      "       |     /home/studio-lab-user/nltk_data...\n",
      "       |   Unzipping taggers/averaged_perceptron_tagger.zip.\n",
      "       | \n",
      "     Done downloading collection book\n"
     ]
    },
    {
     "name": "stdout",
     "output_type": "stream",
     "text": [
      "\n",
      "---------------------------------------------------------------------------\n",
      "    d) Download   l) List    u) Update   c) Config   h) Help   q) Quit\n",
      "---------------------------------------------------------------------------\n"
     ]
    },
    {
     "name": "stdin",
     "output_type": "stream",
     "text": [
      "Downloader>  all\n"
     ]
    },
    {
     "name": "stdout",
     "output_type": "stream",
     "text": [
      "Command 'all' unrecognized\n",
      "\n",
      "---------------------------------------------------------------------------\n",
      "    d) Download   l) List    u) Update   c) Config   h) Help   q) Quit\n",
      "---------------------------------------------------------------------------\n"
     ]
    },
    {
     "name": "stdin",
     "output_type": "stream",
     "text": [
      "Downloader>  d\n"
     ]
    },
    {
     "name": "stdout",
     "output_type": "stream",
     "text": [
      "\n",
      "Download which package (l=list; x=cancel)?\n"
     ]
    },
    {
     "name": "stdin",
     "output_type": "stream",
     "text": [
      "  Identifier>  all\n"
     ]
    },
    {
     "name": "stderr",
     "output_type": "stream",
     "text": [
      "    Downloading collection 'all'\n",
      "       | \n",
      "       | Downloading package abc to /home/studio-lab-user/nltk_data...\n",
      "       |   Package abc is already up-to-date!\n",
      "       | Downloading package alpino to /home/studio-lab-\n",
      "       |     user/nltk_data...\n",
      "       |   Unzipping corpora/alpino.zip.\n",
      "       | Downloading package averaged_perceptron_tagger to\n",
      "       |     /home/studio-lab-user/nltk_data...\n",
      "       |   Package averaged_perceptron_tagger is already up-to-date!\n",
      "       | Downloading package averaged_perceptron_tagger_ru to\n",
      "       |     /home/studio-lab-user/nltk_data...\n",
      "       |   Unzipping taggers/averaged_perceptron_tagger_ru.zip.\n",
      "       | Downloading package basque_grammars to /home/studio-lab-\n",
      "       |     user/nltk_data...\n",
      "       |   Unzipping grammars/basque_grammars.zip.\n",
      "       | Downloading package biocreative_ppi to /home/studio-lab-\n",
      "       |     user/nltk_data...\n",
      "       |   Unzipping corpora/biocreative_ppi.zip.\n",
      "       | Downloading package bllip_wsj_no_aux to /home/studio-lab-\n",
      "       |     user/nltk_data...\n",
      "       |   Unzipping models/bllip_wsj_no_aux.zip.\n",
      "       | Downloading package book_grammars to /home/studio-lab-\n",
      "       |     user/nltk_data...\n",
      "       |   Package book_grammars is already up-to-date!\n",
      "       | Downloading package brown to /home/studio-lab-\n",
      "       |     user/nltk_data...\n",
      "       |   Package brown is already up-to-date!\n",
      "       | Downloading package brown_tei to /home/studio-lab-\n",
      "       |     user/nltk_data...\n",
      "       |   Unzipping corpora/brown_tei.zip.\n",
      "       | Downloading package cess_cat to /home/studio-lab-\n",
      "       |     user/nltk_data...\n",
      "       |   Unzipping corpora/cess_cat.zip.\n",
      "       | Downloading package cess_esp to /home/studio-lab-\n",
      "       |     user/nltk_data...\n",
      "       |   Unzipping corpora/cess_esp.zip.\n",
      "       | Downloading package chat80 to /home/studio-lab-\n",
      "       |     user/nltk_data...\n",
      "       |   Package chat80 is already up-to-date!\n",
      "       | Downloading package city_database to /home/studio-lab-\n",
      "       |     user/nltk_data...\n",
      "       |   Package city_database is already up-to-date!\n",
      "       | Downloading package cmudict to /home/studio-lab-\n",
      "       |     user/nltk_data...\n",
      "       |   Package cmudict is already up-to-date!\n",
      "       | Downloading package comparative_sentences to /home/studio-\n",
      "       |     lab-user/nltk_data...\n",
      "       |   Unzipping corpora/comparative_sentences.zip.\n",
      "       | Downloading package comtrans to /home/studio-lab-\n",
      "       |     user/nltk_data...\n",
      "       | Downloading package conll2000 to /home/studio-lab-\n",
      "       |     user/nltk_data...\n",
      "       |   Package conll2000 is already up-to-date!\n",
      "       | Downloading package conll2002 to /home/studio-lab-\n",
      "       |     user/nltk_data...\n",
      "       |   Package conll2002 is already up-to-date!\n",
      "       | Downloading package conll2007 to /home/studio-lab-\n",
      "       |     user/nltk_data...\n",
      "       | Downloading package crubadan to /home/studio-lab-\n",
      "       |     user/nltk_data...\n",
      "       |   Unzipping corpora/crubadan.zip.\n",
      "       | Downloading package dependency_treebank to /home/studio-lab-\n",
      "       |     user/nltk_data...\n",
      "       |   Package dependency_treebank is already up-to-date!\n",
      "       | Downloading package dolch to /home/studio-lab-\n",
      "       |     user/nltk_data...\n",
      "       |   Unzipping corpora/dolch.zip.\n",
      "       | Downloading package europarl_raw to /home/studio-lab-\n",
      "       |     user/nltk_data...\n",
      "       |   Unzipping corpora/europarl_raw.zip.\n",
      "       | Downloading package extended_omw to /home/studio-lab-\n",
      "       |     user/nltk_data...\n",
      "       |   Unzipping corpora/extended_omw.zip.\n",
      "       | Downloading package floresta to /home/studio-lab-\n",
      "       |     user/nltk_data...\n",
      "       |   Unzipping corpora/floresta.zip.\n",
      "       | Downloading package framenet_v15 to /home/studio-lab-\n",
      "       |     user/nltk_data...\n",
      "       |   Unzipping corpora/framenet_v15.zip.\n",
      "       | Downloading package framenet_v17 to /home/studio-lab-\n",
      "       |     user/nltk_data...\n",
      "       |   Unzipping corpora/framenet_v17.zip.\n",
      "       | Downloading package gazetteers to /home/studio-lab-\n",
      "       |     user/nltk_data...\n",
      "       |   Unzipping corpora/gazetteers.zip.\n",
      "       | Downloading package genesis to /home/studio-lab-\n",
      "       |     user/nltk_data...\n",
      "       |   Package genesis is already up-to-date!\n",
      "       | Downloading package gutenberg to /home/studio-lab-\n",
      "       |     user/nltk_data...\n",
      "       |   Package gutenberg is already up-to-date!\n",
      "       | Downloading package ieer to /home/studio-lab-\n",
      "       |     user/nltk_data...\n",
      "       |   Package ieer is already up-to-date!\n",
      "       | Downloading package inaugural to /home/studio-lab-\n",
      "       |     user/nltk_data...\n",
      "       |   Package inaugural is already up-to-date!\n",
      "       | Downloading package indian to /home/studio-lab-\n",
      "       |     user/nltk_data...\n",
      "       |   Unzipping corpora/indian.zip.\n",
      "       | Downloading package jeita to /home/studio-lab-\n",
      "       |     user/nltk_data...\n",
      "       | Downloading package kimmo to /home/studio-lab-\n",
      "       |     user/nltk_data...\n",
      "       |   Unzipping corpora/kimmo.zip.\n",
      "       | Downloading package knbc to /home/studio-lab-\n",
      "       |     user/nltk_data...\n",
      "       | Downloading package large_grammars to /home/studio-lab-\n",
      "       |     user/nltk_data...\n",
      "       |   Unzipping grammars/large_grammars.zip.\n",
      "       | Downloading package lin_thesaurus to /home/studio-lab-\n",
      "       |     user/nltk_data...\n",
      "       |   Unzipping corpora/lin_thesaurus.zip.\n",
      "       | Downloading package mac_morpho to /home/studio-lab-\n",
      "       |     user/nltk_data...\n",
      "       |   Unzipping corpora/mac_morpho.zip.\n",
      "       | Downloading package machado to /home/studio-lab-\n",
      "       |     user/nltk_data...\n",
      "       | Downloading package masc_tagged to /home/studio-lab-\n",
      "       |     user/nltk_data...\n",
      "       | Downloading package maxent_ne_chunker to /home/studio-lab-\n",
      "       |     user/nltk_data...\n",
      "       |   Package maxent_ne_chunker is already up-to-date!\n",
      "       | Downloading package maxent_treebank_pos_tagger to\n",
      "       |     /home/studio-lab-user/nltk_data...\n",
      "       |   Package maxent_treebank_pos_tagger is already up-to-date!\n",
      "       | Downloading package moses_sample to /home/studio-lab-\n",
      "       |     user/nltk_data...\n",
      "       |   Unzipping models/moses_sample.zip.\n",
      "       | Downloading package movie_reviews to /home/studio-lab-\n",
      "       |     user/nltk_data...\n",
      "       |   Package movie_reviews is already up-to-date!\n",
      "       | Downloading package mte_teip5 to /home/studio-lab-\n",
      "       |     user/nltk_data...\n",
      "       |   Unzipping corpora/mte_teip5.zip.\n",
      "       | Downloading package mwa_ppdb to /home/studio-lab-\n",
      "       |     user/nltk_data...\n",
      "       |   Unzipping misc/mwa_ppdb.zip.\n",
      "       | Downloading package names to /home/studio-lab-\n",
      "       |     user/nltk_data...\n",
      "       |   Package names is already up-to-date!\n",
      "       | Downloading package nombank.1.0 to /home/studio-lab-\n",
      "       |     user/nltk_data...\n",
      "       | Downloading package nonbreaking_prefixes to /home/studio-lab-\n",
      "       |     user/nltk_data...\n",
      "       |   Unzipping corpora/nonbreaking_prefixes.zip.\n",
      "       | Downloading package nps_chat to /home/studio-lab-\n",
      "       |     user/nltk_data...\n",
      "       |   Package nps_chat is already up-to-date!\n",
      "       | Downloading package omw to /home/studio-lab-user/nltk_data...\n",
      "       |   Unzipping corpora/omw.zip.\n",
      "       | Downloading package omw-1.4 to /home/studio-lab-\n",
      "       |     user/nltk_data...\n",
      "       |   Unzipping corpora/omw-1.4.zip.\n",
      "       | Downloading package opinion_lexicon to /home/studio-lab-\n",
      "       |     user/nltk_data...\n",
      "       |   Unzipping corpora/opinion_lexicon.zip.\n",
      "       | Downloading package panlex_swadesh to /home/studio-lab-\n",
      "       |     user/nltk_data...\n",
      "       |   Package panlex_swadesh is already up-to-date!\n",
      "       | Downloading package paradigms to /home/studio-lab-\n",
      "       |     user/nltk_data...\n",
      "       |   Unzipping corpora/paradigms.zip.\n",
      "       | Downloading package pe08 to /home/studio-lab-\n",
      "       |     user/nltk_data...\n",
      "       |   Unzipping corpora/pe08.zip.\n",
      "       | Downloading package perluniprops to /home/studio-lab-\n",
      "       |     user/nltk_data...\n",
      "       |   Unzipping misc/perluniprops.zip.\n",
      "       | Downloading package pil to /home/studio-lab-user/nltk_data...\n",
      "       |   Unzipping corpora/pil.zip.\n",
      "       | Downloading package pl196x to /home/studio-lab-\n",
      "       |     user/nltk_data...\n",
      "       |   Unzipping corpora/pl196x.zip.\n",
      "       | Downloading package porter_test to /home/studio-lab-\n",
      "       |     user/nltk_data...\n",
      "       |   Unzipping stemmers/porter_test.zip.\n",
      "       | Downloading package ppattach to /home/studio-lab-\n",
      "       |     user/nltk_data...\n",
      "       |   Package ppattach is already up-to-date!\n",
      "       | Downloading package problem_reports to /home/studio-lab-\n",
      "       |     user/nltk_data...\n",
      "       |   Unzipping corpora/problem_reports.zip.\n",
      "       | Downloading package product_reviews_1 to /home/studio-lab-\n",
      "       |     user/nltk_data...\n",
      "       |   Unzipping corpora/product_reviews_1.zip.\n",
      "       | Downloading package product_reviews_2 to /home/studio-lab-\n",
      "       |     user/nltk_data...\n",
      "       |   Unzipping corpora/product_reviews_2.zip.\n",
      "       | Downloading package propbank to /home/studio-lab-\n",
      "       |     user/nltk_data...\n",
      "       | Downloading package pros_cons to /home/studio-lab-\n",
      "       |     user/nltk_data...\n",
      "       |   Unzipping corpora/pros_cons.zip.\n",
      "       | Downloading package ptb to /home/studio-lab-user/nltk_data...\n",
      "       |   Unzipping corpora/ptb.zip.\n",
      "       | Downloading package punkt to /home/studio-lab-\n",
      "       |     user/nltk_data...\n",
      "       |   Package punkt is already up-to-date!\n",
      "       | Downloading package qc to /home/studio-lab-user/nltk_data...\n",
      "       |   Unzipping corpora/qc.zip.\n",
      "       | Downloading package reuters to /home/studio-lab-\n",
      "       |     user/nltk_data...\n",
      "       |   Package reuters is already up-to-date!\n",
      "       | Downloading package rslp to /home/studio-lab-\n",
      "       |     user/nltk_data...\n",
      "       |   Unzipping stemmers/rslp.zip.\n",
      "       | Downloading package rte to /home/studio-lab-user/nltk_data...\n",
      "       |   Unzipping corpora/rte.zip.\n",
      "       | Downloading package sample_grammars to /home/studio-lab-\n",
      "       |     user/nltk_data...\n",
      "       |   Unzipping grammars/sample_grammars.zip.\n",
      "       | Downloading package semcor to /home/studio-lab-\n",
      "       |     user/nltk_data...\n",
      "       | Downloading package senseval to /home/studio-lab-\n",
      "       |     user/nltk_data...\n",
      "       |   Package senseval is already up-to-date!\n",
      "       | Downloading package sentence_polarity to /home/studio-lab-\n",
      "       |     user/nltk_data...\n",
      "       |   Unzipping corpora/sentence_polarity.zip.\n",
      "       | Downloading package sentiwordnet to /home/studio-lab-\n",
      "       |     user/nltk_data...\n",
      "       |   Unzipping corpora/sentiwordnet.zip.\n",
      "       | Downloading package shakespeare to /home/studio-lab-\n",
      "       |     user/nltk_data...\n",
      "       |   Unzipping corpora/shakespeare.zip.\n",
      "       | Downloading package sinica_treebank to /home/studio-lab-\n",
      "       |     user/nltk_data...\n",
      "       |   Unzipping corpora/sinica_treebank.zip.\n",
      "       | Downloading package smultron to /home/studio-lab-\n",
      "       |     user/nltk_data...\n",
      "       |   Unzipping corpora/smultron.zip.\n",
      "       | Downloading package snowball_data to /home/studio-lab-\n",
      "       |     user/nltk_data...\n",
      "       | Downloading package spanish_grammars to /home/studio-lab-\n",
      "       |     user/nltk_data...\n",
      "       |   Unzipping grammars/spanish_grammars.zip.\n",
      "       | Downloading package state_union to /home/studio-lab-\n",
      "       |     user/nltk_data...\n",
      "       |   Package state_union is already up-to-date!\n",
      "       | Downloading package stopwords to /home/studio-lab-\n",
      "       |     user/nltk_data...\n",
      "       |   Package stopwords is already up-to-date!\n",
      "       | Downloading package subjectivity to /home/studio-lab-\n",
      "       |     user/nltk_data...\n",
      "       |   Unzipping corpora/subjectivity.zip.\n",
      "       | Downloading package swadesh to /home/studio-lab-\n",
      "       |     user/nltk_data...\n",
      "       |   Package swadesh is already up-to-date!\n",
      "       | Downloading package switchboard to /home/studio-lab-\n",
      "       |     user/nltk_data...\n",
      "       |   Unzipping corpora/switchboard.zip.\n",
      "       | Downloading package tagsets to /home/studio-lab-\n",
      "       |     user/nltk_data...\n",
      "       |   Package tagsets is already up-to-date!\n",
      "       | Downloading package timit to /home/studio-lab-\n",
      "       |     user/nltk_data...\n",
      "       |   Package timit is already up-to-date!\n",
      "       | Downloading package toolbox to /home/studio-lab-\n",
      "       |     user/nltk_data...\n",
      "       |   Package toolbox is already up-to-date!\n",
      "       | Downloading package treebank to /home/studio-lab-\n",
      "       |     user/nltk_data...\n",
      "       |   Package treebank is already up-to-date!\n",
      "       | Downloading package twitter_samples to /home/studio-lab-\n",
      "       |     user/nltk_data...\n",
      "       |   Unzipping corpora/twitter_samples.zip.\n",
      "       | Downloading package udhr to /home/studio-lab-\n",
      "       |     user/nltk_data...\n",
      "       |   Package udhr is already up-to-date!\n",
      "       | Downloading package udhr2 to /home/studio-lab-\n",
      "       |     user/nltk_data...\n",
      "       |   Package udhr2 is already up-to-date!\n",
      "       | Downloading package unicode_samples to /home/studio-lab-\n",
      "       |     user/nltk_data...\n",
      "       |   Package unicode_samples is already up-to-date!\n",
      "       | Downloading package universal_tagset to /home/studio-lab-\n",
      "       |     user/nltk_data...\n",
      "       |   Package universal_tagset is already up-to-date!\n",
      "       | Downloading package universal_treebanks_v20 to /home/studio-\n",
      "       |     lab-user/nltk_data...\n",
      "       | Downloading package vader_lexicon to /home/studio-lab-\n",
      "       |     user/nltk_data...\n",
      "       | Downloading package verbnet to /home/studio-lab-\n",
      "       |     user/nltk_data...\n",
      "       |   Unzipping corpora/verbnet.zip.\n",
      "       | Downloading package verbnet3 to /home/studio-lab-\n",
      "       |     user/nltk_data...\n",
      "       |   Unzipping corpora/verbnet3.zip.\n",
      "       | Downloading package webtext to /home/studio-lab-\n",
      "       |     user/nltk_data...\n",
      "       |   Package webtext is already up-to-date!\n",
      "       | Downloading package wmt15_eval to /home/studio-lab-\n",
      "       |     user/nltk_data...\n",
      "       |   Unzipping models/wmt15_eval.zip.\n",
      "       | Downloading package word2vec_sample to /home/studio-lab-\n",
      "       |     user/nltk_data...\n",
      "       |   Unzipping models/word2vec_sample.zip.\n",
      "       | Downloading package wordnet to /home/studio-lab-\n",
      "       |     user/nltk_data...\n",
      "       |   Package wordnet is already up-to-date!\n",
      "       | Downloading package wordnet2021 to /home/studio-lab-\n",
      "       |     user/nltk_data...\n",
      "       |   Unzipping corpora/wordnet2021.zip.\n",
      "       | Downloading package wordnet31 to /home/studio-lab-\n",
      "       |     user/nltk_data...\n",
      "       |   Unzipping corpora/wordnet31.zip.\n",
      "       | Downloading package wordnet_ic to /home/studio-lab-\n",
      "       |     user/nltk_data...\n",
      "       |   Package wordnet_ic is already up-to-date!\n",
      "       | Downloading package words to /home/studio-lab-\n",
      "       |     user/nltk_data...\n",
      "       |   Package words is already up-to-date!\n",
      "       | Downloading package ycoe to /home/studio-lab-\n",
      "       |     user/nltk_data...\n",
      "       |   Unzipping corpora/ycoe.zip.\n",
      "       | \n",
      "     Done downloading collection all\n"
     ]
    },
    {
     "name": "stdout",
     "output_type": "stream",
     "text": [
      "\n",
      "---------------------------------------------------------------------------\n",
      "    d) Download   l) List    u) Update   c) Config   h) Help   q) Quit\n",
      "---------------------------------------------------------------------------\n"
     ]
    },
    {
     "name": "stdin",
     "output_type": "stream",
     "text": [
      "Downloader>  q\n"
     ]
    },
    {
     "data": {
      "text/plain": [
       "True"
      ]
     },
     "execution_count": 4,
     "metadata": {},
     "output_type": "execute_result"
    }
   ],
   "source": [
    "import nltk\n",
    "nltk.download()"
   ]
  },
  {
   "cell_type": "code",
   "execution_count": 5,
   "id": "35f31fa5-7605-474d-99f9-652395747fb9",
   "metadata": {},
   "outputs": [
    {
     "name": "stdout",
     "output_type": "stream",
     "text": [
      "*** Introductory Examples for the NLTK Book ***\n",
      "Loading text1, ..., text9 and sent1, ..., sent9\n",
      "Type the name of the text or sentence to view it.\n",
      "Type: 'texts()' or 'sents()' to list the materials.\n",
      "text1: Moby Dick by Herman Melville 1851\n",
      "text2: Sense and Sensibility by Jane Austen 1811\n",
      "text3: The Book of Genesis\n",
      "text4: Inaugural Address Corpus\n",
      "text5: Chat Corpus\n",
      "text6: Monty Python and the Holy Grail\n",
      "text7: Wall Street Journal\n",
      "text8: Personals Corpus\n",
      "text9: The Man Who Was Thursday by G . K . Chesterton 1908\n"
     ]
    }
   ],
   "source": [
    "#To view the nltk books\n",
    "from nltk.book import * "
   ]
  },
  {
   "cell_type": "code",
   "execution_count": 6,
   "id": "115e9d8d-0211-48d1-a314-2c5686922ee4",
   "metadata": {},
   "outputs": [
    {
     "data": {
      "text/plain": [
       "<Text: Moby Dick by Herman Melville 1851>"
      ]
     },
     "execution_count": 6,
     "metadata": {},
     "output_type": "execute_result"
    }
   ],
   "source": [
    "#To view the Title of Text1 (Book1)\n",
    "text1"
   ]
  },
  {
   "cell_type": "code",
   "execution_count": 7,
   "id": "8285a737-d2fa-4298-a0da-9914e05a131a",
   "metadata": {},
   "outputs": [
    {
     "name": "stdout",
     "output_type": "stream",
     "text": [
      "Displaying 11 of 11 matches:\n",
      "ong the former , one was of a most monstrous size . ... This came towards us , \n",
      "ON OF THE PSALMS . \" Touching that monstrous bulk of the whale or ork we have r\n",
      "ll over with a heathenish array of monstrous clubs and spears . Some were thick\n",
      "d as you gazed , and wondered what monstrous cannibal and savage could ever hav\n",
      "that has survived the flood ; most monstrous and most mountainous ! That Himmal\n",
      "they might scout at Moby Dick as a monstrous fable , or still worse and more de\n",
      "th of Radney .'\" CHAPTER 55 Of the Monstrous Pictures of Whales . I shall ere l\n",
      "ing Scenes . In connexion with the monstrous pictures of whales , I am strongly\n",
      "ere to enter upon those still more monstrous stories of them which are to be fo\n",
      "ght have been rummaged out of this monstrous cabinet there is no telling . But \n",
      "of Whale - Bones ; for Whales of a monstrous size are oftentimes cast up dead u\n"
     ]
    }
   ],
   "source": [
    "#Searching Text \n",
    "#There are many ways to examine the context of a text apart from simply reading it. \n",
    "#A concordance view shows us every occurrence of a given word, together with some context. \n",
    "\n",
    "#Occurrence of the word \"monstrous\" in text1\n",
    "text1.concordance(\"monstrous\")"
   ]
  },
  {
   "cell_type": "code",
   "execution_count": 8,
   "id": "137b40a2-ebc6-496f-853c-3557d2cd7e1e",
   "metadata": {},
   "outputs": [
    {
     "name": "stdout",
     "output_type": "stream",
     "text": [
      "very so exceedingly heartily a as good great extremely remarkably\n",
      "sweet vast amazingly\n"
     ]
    }
   ],
   "source": [
    "#What other words appear in a similar range of contexts with the word monstrous? (in text2)\n",
    "text2.similar(\"monstrous\")"
   ]
  },
  {
   "cell_type": "code",
   "execution_count": 9,
   "id": "e88e047a-8a9c-43d7-af19-e4263c5110c1",
   "metadata": {},
   "outputs": [
    {
     "name": "stdout",
     "output_type": "stream",
     "text": [
      "No common contexts were found\n"
     ]
    }
   ],
   "source": [
    "#The term common_contexts allows us to examine just the contexts that are shared by two or more words, \n",
    "#such as monstrous and very. (in text1)\n",
    "text1.common_contexts([\"monstrous\", \"very\"])"
   ]
  },
  {
   "cell_type": "code",
   "execution_count": 14,
   "id": "aa4bdc88-ea95-4787-91c3-ee2fe85a5f04",
   "metadata": {},
   "outputs": [
    {
     "name": "stdout",
     "output_type": "stream",
     "text": [
      "Collecting matplotlib\n",
      "  Downloading matplotlib-3.5.1-cp39-cp39-manylinux_2_5_x86_64.manylinux1_x86_64.whl (11.2 MB)\n",
      "\u001b[K     |████████████████████████████████| 11.2 MB 2.9 MB/s eta 0:00:01\n",
      "\u001b[?25hRequirement already satisfied: packaging>=20.0 in /home/studio-lab-user/.conda/envs/default/lib/python3.9/site-packages (from matplotlib) (21.3)\n",
      "Collecting pillow>=6.2.0\n",
      "  Downloading Pillow-9.0.1-cp39-cp39-manylinux_2_17_x86_64.manylinux2014_x86_64.whl (4.3 MB)\n",
      "\u001b[K     |████████████████████████████████| 4.3 MB 71.7 MB/s eta 0:00:01\n",
      "\u001b[?25hCollecting fonttools>=4.22.0\n",
      "  Downloading fonttools-4.31.1-py3-none-any.whl (899 kB)\n",
      "\u001b[K     |████████████████████████████████| 899 kB 65.8 MB/s eta 0:00:01\n",
      "\u001b[?25hCollecting kiwisolver>=1.0.1\n",
      "  Downloading kiwisolver-1.4.0-cp39-cp39-manylinux_2_12_x86_64.manylinux2010_x86_64.whl (1.6 MB)\n",
      "\u001b[K     |████████████████████████████████| 1.6 MB 75.3 MB/s eta 0:00:01\n",
      "\u001b[?25hCollecting cycler>=0.10\n",
      "  Downloading cycler-0.11.0-py3-none-any.whl (6.4 kB)\n",
      "Collecting numpy>=1.17\n",
      "  Downloading numpy-1.22.3-cp39-cp39-manylinux_2_17_x86_64.manylinux2014_x86_64.whl (16.8 MB)\n",
      "\u001b[K     |████████████████████████████████| 16.8 MB 68.0 MB/s eta 0:00:01\n",
      "\u001b[?25hRequirement already satisfied: python-dateutil>=2.7 in /home/studio-lab-user/.conda/envs/default/lib/python3.9/site-packages (from matplotlib) (2.8.2)\n",
      "Requirement already satisfied: pyparsing>=2.2.1 in /home/studio-lab-user/.conda/envs/default/lib/python3.9/site-packages (from matplotlib) (3.0.6)\n",
      "Requirement already satisfied: six>=1.5 in /home/studio-lab-user/.conda/envs/default/lib/python3.9/site-packages (from python-dateutil>=2.7->matplotlib) (1.16.0)\n",
      "Installing collected packages: pillow, numpy, kiwisolver, fonttools, cycler, matplotlib\n",
      "Successfully installed cycler-0.11.0 fonttools-4.31.1 kiwisolver-1.4.0 matplotlib-3.5.1 numpy-1.22.3 pillow-9.0.1\n"
     ]
    }
   ],
   "source": [
    "!pip install matplotlib\n",
    "from matplotlib import pylab"
   ]
  },
  {
   "cell_type": "code",
   "execution_count": 15,
   "id": "a16b102c-bbf8-4030-9b48-33f8a7bf7051",
   "metadata": {},
   "outputs": [
    {
     "data": {
      "image/png": "[encoded data removed]",
      "text/plain": [
       "<Figure size 432x288 with 1 Axes>"
      ]
     },
     "metadata": {
      "needs_background": "light"
     },
     "output_type": "display_data"
    }
   ],
   "source": [
    "#we can also determine the location of a word in the text: how many words from the beginning it appears. \n",
    "#This positional information can be displayed using a dispersion plot.\n",
    "\n",
    "#How the five words (citizens, democracy, freedom, duties, America) are dispersed in the texts\n",
    "text4.dispersion_plot([\"citizens\", \"democracy\", \"freedom\", \"duties\", \"America\"])"
   ]
  },
  {
   "cell_type": "code",
   "execution_count": 16,
   "id": "92160d97-ce70-463b-87e9-0dc000615554",
   "metadata": {},
   "outputs": [
    {
     "name": "stderr",
     "output_type": "stream",
     "text": [
      "Building ngram index...\n"
     ]
    },
    {
     "name": "stdout",
     "output_type": "stream",
     "text": [
      "lamb for a burnt offering in the city . , duke Elah , duke Shobal ,\n",
      "and Akan . and looked upon my affliction . Because the LORD God\n",
      "amongst the trees of the mighty God of Abraham his father , that they\n",
      "found a plain man , and the wo The blessings of my hand to do justice\n",
      "and judgment ; that the LORD that spake unto me , and put him into the\n",
      "ark , and for your little ones . they heard that they have brought it\n",
      "unto Hagar , Sarai ' s brother will I slay\n"
     ]
    },
    {
     "data": {
      "text/plain": [
       "\"lamb for a burnt offering in the city . , duke Elah , duke Shobal ,\\nand Akan . and looked upon my affliction . Because the LORD God\\namongst the trees of the mighty God of Abraham his father , that they\\nfound a plain man , and the wo The blessings of my hand to do justice\\nand judgment ; that the LORD that spake unto me , and put him into the\\nark , and for your little ones . they heard that they have brought it\\nunto Hagar , Sarai ' s brother will I slay\""
      ]
     },
     "execution_count": 16,
     "metadata": {},
     "output_type": "execute_result"
    }
   ],
   "source": [
    "#generating some random text from text3\n",
    "text3.generate()"
   ]
  },
  {
   "cell_type": "code",
   "execution_count": 17,
   "id": "73cf36e5-7523-4c29-8a0e-f9627165a57b",
   "metadata": {},
   "outputs": [
    {
     "data": {
      "text/plain": [
       "44764"
      ]
     },
     "execution_count": 17,
     "metadata": {},
     "output_type": "execute_result"
    }
   ],
   "source": [
    "#Number of tokens: A token is the technical name for a sequence of characters — such as hairy, his, or :\n",
    "#Number of tokens in text3\n",
    "len(text3)"
   ]
  },
  {
   "cell_type": "code",
   "execution_count": 18,
   "id": "9e8c6fd5-3a9a-4d88-a379-aa9ee3c95436",
   "metadata": {},
   "outputs": [
    {
     "data": {
      "text/plain": [
       "2789"
      ]
     },
     "execution_count": 18,
     "metadata": {},
     "output_type": "execute_result"
    }
   ],
   "source": [
    "#distinct words, or \"word types\n",
    "len(set(text3)) "
   ]
  },
  {
   "cell_type": "code",
   "execution_count": 20,
   "id": "aa8dc441-c47e-40d3-961d-e3479ad7357f",
   "metadata": {},
   "outputs": [],
   "source": [
    "#Computing with Language: Simple Statistics\n",
    "saying = ['After', 'all', 'is', 'said', 'and', 'done', 'more', 'is', 'said', 'than', 'done']"
   ]
  },
  {
   "cell_type": "code",
   "execution_count": 21,
   "id": "f4db16ea-26bd-49bc-aa69-b49e39b21e3f",
   "metadata": {},
   "outputs": [
    {
     "name": "stdout",
     "output_type": "stream",
     "text": [
      "{'said', 'done', 'is', 'than', 'and', 'more', 'After', 'all'}\n"
     ]
    }
   ],
   "source": [
    "tokens = set(saying)\n",
    "print(tokens)"
   ]
  },
  {
   "cell_type": "code",
   "execution_count": 24,
   "id": "90cc8742-5785-4c93-aefb-33b7d2eecb9e",
   "metadata": {},
   "outputs": [
    {
     "name": "stdout",
     "output_type": "stream",
     "text": [
      "['After', 'all', 'and', 'done', 'is', 'more', 'said', 'than']\n"
     ]
    }
   ],
   "source": [
    "tokens = sorted(tokens)\n",
    "print(tokens)"
   ]
  },
  {
   "cell_type": "code",
   "execution_count": 25,
   "id": "88e3a769-0cb2-47ab-b65f-8a86100f47d0",
   "metadata": {},
   "outputs": [
    {
     "data": {
      "text/plain": [
       "'said'"
      ]
     },
     "execution_count": 25,
     "metadata": {},
     "output_type": "execute_result"
    }
   ],
   "source": [
    "tokens[-2] #tokens[6]"
   ]
  },
  {
   "cell_type": "code",
   "execution_count": 26,
   "id": "2244ed80-d99a-4ca8-bf8c-0243a357d517",
   "metadata": {},
   "outputs": [
    {
     "data": {
      "text/plain": [
       "FreqDist({',': 18713, 'the': 13721, '.': 6862, 'of': 6536, 'and': 6024, 'a': 4569, 'to': 4542, ';': 4072, 'in': 3916, 'that': 2982, ...})"
      ]
     },
     "execution_count": 26,
     "metadata": {},
     "output_type": "execute_result"
    }
   ],
   "source": [
    "#Frequency distribution can tells us the frequency of each vocabulary item in the text.\n",
    "from nltk.probability import FreqDist\n",
    "\n",
    "fdist1 = FreqDist(text1)\n",
    "fdist1"
   ]
  },
  {
   "cell_type": "code",
   "execution_count": 34,
   "id": "837d2b7a-9e79-4934-b259-67a4d3215b71",
   "metadata": {},
   "outputs": [],
   "source": [
    "#The expression keys() gives us a list of all the distinct types in the text, \n",
    "#and we can look at the first 50 of these by slicing the list.\n",
    "\n",
    "vocabulary1 = fdist1.keys()\n",
    "#vocabulary1"
   ]
  },
  {
   "cell_type": "code",
   "execution_count": 39,
   "id": "4998e33b-f3fc-48e8-a3cc-7fc8213b75c1",
   "metadata": {},
   "outputs": [
    {
     "name": "stdout",
     "output_type": "stream",
     "text": [
      "['Tokenization is the process of turning a meaningful piece \\nof data, such as an account number, into a random string of characters \\ncalled a token that has no meaningful value if breached.', 'Tokens serve \\nas reference to the original data, but cannot be used to guess those \\nvalues.']\n"
     ]
    }
   ],
   "source": [
    "#Tokenization at sentence level\n",
    "from nltk.tokenize import sent_tokenize\n",
    "\n",
    "sample = \"\"\"Tokenization is the process of turning a meaningful piece \n",
    "of data, such as an account number, into a random string of characters \n",
    "called a token that has no meaningful value if breached. Tokens serve \n",
    "as reference to the original data, but cannot be used to guess those \n",
    "values.\"\"\"\n",
    "\n",
    "tokenized_text = sent_tokenize(sample)\n",
    "print(tokenized_text)"
   ]
  },
  {
   "cell_type": "code",
   "execution_count": 40,
   "id": "cc650712-b4fe-43f6-85dc-bda7efa474b2",
   "metadata": {},
   "outputs": [
    {
     "name": "stdout",
     "output_type": "stream",
     "text": [
      "['Tokenization', 'is', 'the', 'process', 'of', 'turning', 'a', 'meaningful', 'piece', 'of', 'data', ',', 'such', 'as', 'an', 'account', 'number', ',', 'into', 'a', 'random', 'string', 'of', 'characters', 'called', 'a', 'token', 'that', 'has', 'no', 'meaningful', 'value', 'if', 'breached', '.', 'Tokens', 'serve', 'as', 'reference', 'to', 'the', 'original', 'data', ',', 'but', 'can', 'not', 'be', 'used', 'to', 'guess', 'those', 'values', '.']\n"
     ]
    }
   ],
   "source": [
    "#Tokenization at word level\n",
    "from nltk.tokenize import word_tokenize\n",
    "\n",
    "tokenized_word = word_tokenize(sample)\n",
    "print(tokenized_word)"
   ]
  },
  {
   "cell_type": "code",
   "execution_count": 41,
   "id": "a006b7eb-f2bc-4896-b5a4-2a21f2cb2efa",
   "metadata": {},
   "outputs": [
    {
     "data": {
      "text/plain": [
       "['Tokenization',\n",
       " 'is',\n",
       " 'the',\n",
       " 'process',\n",
       " 'of',\n",
       " 'turning',\n",
       " 'a',\n",
       " 'meaningful',\n",
       " 'piece',\n",
       " 'of']"
      ]
     },
     "execution_count": 41,
     "metadata": {},
     "output_type": "execute_result"
    }
   ],
   "source": [
    "#The first 10 tokens\n",
    "tokenized_word[:10]"
   ]
  },
  {
   "cell_type": "code",
   "execution_count": 42,
   "id": "660c5fd9-fbb0-4a85-ac9e-a766b5b1d3f0",
   "metadata": {},
   "outputs": [
    {
     "data": {
      "text/plain": [
       "['Tokenization is the process of turning a meaningful piece \\nof data, such as an account number, into a random string of characters \\ncalled a token that has no meaningful value if breached.',\n",
       " 'Tokens serve \\nas reference to the original data, but cannot be used to guess those \\nvalues.']"
      ]
     },
     "execution_count": 42,
     "metadata": {},
     "output_type": "execute_result"
    }
   ],
   "source": [
    "#The first two sent\n",
    "tokenized_text[:2]"
   ]
  },
  {
   "cell_type": "code",
   "execution_count": 43,
   "id": "bb52b9e7-37cb-47ad-b111-9e06b05d7b8a",
   "metadata": {},
   "outputs": [
    {
     "name": "stdout",
     "output_type": "stream",
     "text": [
      "['One day she was sitting there, all by\\r\\nherself, and it was very still.', 'Suddenly, she heard a little _tap, tap,\\r\\ntap_, at the door.', '\"Who is that?\"', 'she said.', '\"It\\'s the Rain, and I want to come in,\" said a soft, sad, little voice.', '\"No, you can\\'t come in,\" the little Tulip said.', 'By and by she heard another little _tap, tap, tap_ on the window-pane.', '\"Who is there?\"', 'she said.', 'The same soft little voice answered, \"It\\'s the Rain, and I want to come\\r\\nin!\"']\n"
     ]
    }
   ],
   "source": [
    "#Using Gutenberg corpus (sent)\n",
    "from nltk.corpus import gutenberg\n",
    "\n",
    "sample = gutenberg.raw(\"bryant-stories.txt\")\n",
    "\n",
    "tokenized_sent = sent_tokenize(sample)\n",
    "\n",
    "print(tokenized_sent[5:15])"
   ]
  },
  {
   "cell_type": "code",
   "execution_count": 45,
   "id": "34f3fbd4-9503-4ef7-9c6a-5c8e1dd29842",
   "metadata": {},
   "outputs": [],
   "source": [
    "#To see the content of the file\n",
    "from nltk.corpus import gutenberg\n",
    "\n",
    "sample = gutenberg.raw(\"bryant-stories.txt\")\n",
    "#sample"
   ]
  },
  {
   "cell_type": "code",
   "execution_count": 46,
   "id": "d6e8e25c-6e23-4f4f-ae9d-a3559ecb2a78",
   "metadata": {},
   "outputs": [
    {
     "data": {
      "text/plain": [
       "['[The King James Bible]\\n\\nThe Old Testament of the King James Bible\\n\\nThe First Book of Moses:  Called Genesis\\n\\n\\n1:1 In the beginning God created the heaven and the earth.',\n",
       " '1:2 And the earth was without form, and void; and darkness was upon\\nthe face of the deep.',\n",
       " 'And the Spirit of God moved upon the face of the\\nwaters.',\n",
       " '1:3 And God said, Let there be light: and there was light.',\n",
       " '1:4 And God saw the light, that it was good: and God divided the light\\nfrom the darkness.',\n",
       " '1:5 And God called the light Day, and the darkness he called Night.',\n",
       " 'And the evening and the morning were the first day.',\n",
       " '1:6 And God said, Let there be a firmament in the midst of the waters,\\nand let it divide the waters from the waters.',\n",
       " '1:7 And God made the firmament, and divided the waters which were\\nunder the firmament from the waters which were above the firmament:\\nand it was so.',\n",
       " '1:8 And God called the firmament Heaven.']"
      ]
     },
     "execution_count": 46,
     "metadata": {},
     "output_type": "execute_result"
    }
   ],
   "source": [
    "#The first ten sent. of bible \n",
    "from nltk.corpus import gutenberg\n",
    "\n",
    "sample = gutenberg.raw(\"bible-kjv.txt\")\n",
    "sent_tokens = sent_tokenize(sample)\n",
    "sent_tokens[:10]"
   ]
  },
  {
   "cell_type": "code",
   "execution_count": 47,
   "id": "64e1dad7-f6f1-46ce-9ff5-a33f30f0b708",
   "metadata": {},
   "outputs": [
    {
     "name": "stdout",
     "output_type": "stream",
     "text": [
      "['Here', 'is', 'an', 'example', 'of', 'a', 'search', 'query', 'where', 'every', 'single', 'result', 'shown', 'is', 'an', 'e-commerce', 'site', '(', 'in', 'addition']\n"
     ]
    }
   ],
   "source": [
    "#Word tokenize\n",
    "#Display the first 20 words \n",
    "\n",
    "from nltk.tokenize import word_tokenize\n",
    "\n",
    "sample = \"\"\"\n",
    "Here is an example of a search query where every single result shown is \n",
    "an e-commerce site (in addition to some local results). If you have an \n",
    "e-commerce site, and you’re trying to rank, congratulations, you have passed \n",
    "the first test! Google loves e-commerce sites for this query, and that means \n",
    "that if you do the right things with your content and promotion strategies, \n",
    "you should have a chance to gain rankings on this phrase.\n",
    "\"\"\"\n",
    "\n",
    "token = word_tokenize(sample)\n",
    "\n",
    "print(token[:20])"
   ]
  },
  {
   "cell_type": "code",
   "execution_count": 48,
   "id": "f0741b65-c365-4721-9696-fbd02942759c",
   "metadata": {},
   "outputs": [
    {
     "name": "stdout",
     "output_type": "stream",
     "text": [
      "['[', 'The', 'King', 'James', 'Bible', ']', 'The', 'Old', 'Testament', 'of', 'the', 'King', 'James', 'Bible', 'The', 'First', 'Book', 'of', 'Moses', ':', 'Called', 'Genesis', '1:1', 'In', 'the', 'beginning', 'God', 'created', 'the', 'heaven']\n"
     ]
    }
   ],
   "source": [
    "#The first 30 wordsfrom bible \n",
    "from nltk.tokenize import word_tokenize\n",
    "from nltk.corpus import gutenberg\n",
    "\n",
    "sample = gutenberg.raw(\"bible-kjv.txt\")\n",
    "\n",
    "token = word_tokenize(sample)\n",
    "print(token[:30])"
   ]
  },
  {
   "cell_type": "code",
   "execution_count": 49,
   "id": "eb1611c0-a356-40fb-9ff4-2a6c7cf33d1d",
   "metadata": {},
   "outputs": [
    {
     "data": {
      "text/plain": [
       "['Here', 'If', 'Google']"
      ]
     },
     "execution_count": 49,
     "metadata": {},
     "output_type": "execute_result"
    }
   ],
   "source": [
    "#Using trgular expression \n",
    "from nltk.tokenize import RegexpTokenizer\n",
    "\n",
    "sample = \"\"\"\n",
    "Here is an example of a search query where every single result shown is \n",
    "an e-commerce site (in addition to some local results). If you have an \n",
    "e-commerce site, and you’re trying to rank, congratulations, you have passed \n",
    "the first test! Google loves e-commerce sites for this query, and that means \n",
    "that if you do the right things with your content and promotion strategies, \n",
    "you should have a chance to gain rankings on this phrase.\n",
    "\"\"\"\n",
    "\n",
    "capword_tokenizer = RegexpTokenizer('[A-Z]\\w+')\n",
    "\n",
    "capword_tokenizer.tokenize(sample)"
   ]
  },
  {
   "cell_type": "code",
   "execution_count": 50,
   "id": "43387053-2d6b-4708-9f44-aade2c8fd2fb",
   "metadata": {},
   "outputs": [
    {
     "data": {
      "text/plain": [
       "FreqDist({',': 2418, 'the': 1516, \"'\": 1309, '.': 975, 'and': 757, 'to': 717, 'a': 614, 'I': 533, 'it': 512, 'she': 506, ...})"
      ]
     },
     "execution_count": 50,
     "metadata": {},
     "output_type": "execute_result"
    }
   ],
   "source": [
    "#Frequency Distribution \n",
    "from nltk.tokenize import word_tokenize\n",
    "from nltk.corpus import gutenberg\n",
    "from nltk.probability import FreqDist\n",
    "\n",
    "sample = gutenberg.raw(\"carroll-alice.txt\")\n",
    "\n",
    "tokenized_words = word_tokenize(sample)\n",
    "fdist = FreqDist(tokenized_words)\n",
    "fdist"
   ]
  },
  {
   "cell_type": "code",
   "execution_count": 51,
   "id": "ba0ec4d9-17f9-42cb-9046-bb5950ce083d",
   "metadata": {},
   "outputs": [
    {
     "data": {
      "text/plain": [
       "[(',', 2418),\n",
       " ('the', 1516),\n",
       " (\"'\", 1309),\n",
       " ('.', 975),\n",
       " ('and', 757),\n",
       " ('to', 717),\n",
       " ('a', 614),\n",
       " ('I', 533),\n",
       " ('it', 512),\n",
       " ('she', 506),\n",
       " ('of', 496),\n",
       " ('said', 456),\n",
       " ('!', 450),\n",
       " ('Alice', 394),\n",
       " ('was', 361),\n",
       " ('in', 352),\n",
       " ('you', 334),\n",
       " ('that', 267),\n",
       " ('--', 264),\n",
       " ('her', 243)]"
      ]
     },
     "execution_count": 51,
     "metadata": {},
     "output_type": "execute_result"
    }
   ],
   "source": [
    "#20 frequent words\n",
    "fdist.most_common(20)"
   ]
  },
  {
   "cell_type": "code",
   "execution_count": 52,
   "id": "a9cc6a68-2be9-4844-8d98-25016ce43f9c",
   "metadata": {},
   "outputs": [
    {
     "data": {
      "image/png": "[encoded data removed]",
      "text/plain": [
       "<Figure size 432x288 with 1 Axes>"
      ]
     },
     "metadata": {
      "needs_background": "light"
     },
     "output_type": "display_data"
    },
    {
     "data": {
      "text/plain": [
       "<AxesSubplot:xlabel='Samples', ylabel='Counts'>"
      ]
     },
     "execution_count": 52,
     "metadata": {},
     "output_type": "execute_result"
    }
   ],
   "source": [
    "#Plotting the Frequency Distribution \n",
    "fdist.plot(20)"
   ]
  },
  {
   "cell_type": "code",
   "execution_count": 53,
   "id": "def72226-c734-4ab3-a8e8-83794db6a3ac",
   "metadata": {},
   "outputs": [
    {
     "name": "stdout",
     "output_type": "stream",
     "text": [
      "{'i', 'while', 'not', \"mustn't\", 'just', 'when', 'do', 'from', 'own', \"hadn't\", \"mightn't\", 'into', 'under', 'which', 'what', 'them', 'were', 'before', 'theirs', \"isn't\", 'wouldn', 'wasn', 'why', 'both', 'have', \"you've\", 'against', 'don', 'again', 'her', 'who', 'those', 'until', \"wasn't\", 'and', 'be', 'more', \"weren't\", \"it's\", 'about', 'further', 'was', 'but', 'his', 'where', \"don't\", 'to', 'so', 'same', 'your', 'because', \"couldn't\", \"that'll\", 'should', 'up', 'then', 'down', 'am', 'my', 'if', 'there', \"haven't\", 'during', 'off', 'does', 'how', 'our', 'weren', 'here', 'very', 'd', 'ourselves', 'any', 's', 'yours', 'doesn', 'between', 'ours', 'me', 'for', 'or', 'we', 'mustn', 'doing', 'as', 'only', 'couldn', 'she', 'y', 'yourselves', 'nor', 'than', 'whom', 'after', \"you're\", 'aren', 'been', 'itself', 'being', 'of', 'no', 'is', 'an', 'ain', 'will', 'ma', 'shan', 'by', 'all', \"aren't\", \"shouldn't\", 'now', 'each', 'm', 'you', \"you'd\", 'most', 'themselves', 'hasn', 'didn', 'at', 'him', \"hasn't\", 'this', 'above', 'once', 't', 'over', \"shan't\", 'won', 'their', 'he', 'herself', 'did', 'its', 'a', 'has', 'through', 'such', 'out', 'shouldn', 'isn', 'in', \"wouldn't\", 'some', \"she's\", 'himself', 'o', \"needn't\", 've', 'having', 'other', 'below', 'had', 'can', \"should've\", 'myself', 'haven', 'hers', \"didn't\", 'the', 'these', 'few', 'they', 'll', 'hadn', 'it', 'with', 'needn', 'are', 'yourself', 're', \"doesn't\", 'on', \"you'll\", 'too', \"won't\", 'mightn', 'that'}\n"
     ]
    }
   ],
   "source": [
    "#Stopwords removal\n",
    "from nltk.corpus import stopwords\n",
    "stop_words = set(stopwords.words('english'))\n",
    "print(stop_words)"
   ]
  },
  {
   "cell_type": "code",
   "execution_count": 54,
   "id": "79cd6c95-fd8a-46ad-8205-7effa1b5d875",
   "metadata": {},
   "outputs": [
    {
     "data": {
      "text/plain": [
       "[('said', 456),\n",
       " ('Alice', 394),\n",
       " ('little', 125),\n",
       " ('know', 87),\n",
       " ('like', 84),\n",
       " ('went', 83),\n",
       " ('could', 82),\n",
       " ('would', 82),\n",
       " ('thought', 74),\n",
       " ('Queen', 74),\n",
       " ('time', 65),\n",
       " ('King', 60),\n",
       " ('began', 58),\n",
       " ('Turtle', 58),\n",
       " ('Mock', 56),\n",
       " ('Hatter', 55),\n",
       " ('Gryphon', 54),\n",
       " ('quite', 53),\n",
       " ('much', 51),\n",
       " ('think', 50)]"
      ]
     },
     "execution_count": 54,
     "metadata": {},
     "output_type": "execute_result"
    }
   ],
   "source": [
    "#Stopwords removal \n",
    "from nltk.corpus import genesis\n",
    "\n",
    "sample = gutenberg.raw(\"carroll-alice.txt\")\n",
    "\n",
    "word_tokens = word_tokenize(sample)\n",
    "\n",
    "filtered_words = [w for w in word_tokens if w not in stop_words and len(w) > 3]\n",
    "freq = FreqDist(filtered_words)\n",
    "\n",
    "freq.most_common(20)"
   ]
  },
  {
   "cell_type": "code",
   "execution_count": 55,
   "id": "fdca77bb-1c08-49af-852d-c320a964042e",
   "metadata": {},
   "outputs": [
    {
     "data": {
      "text/plain": [
       "[('jack', 470),\n",
       " ('will', 255),\n",
       " ('sparrow', 227),\n",
       " ('elizabeth', 165),\n",
       " ('turner', 149),\n",
       " ('gibbs', 113),\n",
       " ('swann', 96),\n",
       " ('jones', 90),\n",
       " ('norrington', 74),\n",
       " ('pintel', 66),\n",
       " ('ragetti', 60),\n",
       " ('back', 59),\n",
       " ('davy', 58),\n",
       " ('beckett', 56),\n",
       " ('ship', 54),\n",
       " ('chest', 52),\n",
       " ('black', 49),\n",
       " ('pearl', 48),\n",
       " ('crew', 46),\n",
       " ('deck', 44)]"
      ]
     },
     "execution_count": 55,
     "metadata": {},
     "output_type": "execute_result"
    }
   ],
   "source": [
    "#Bigrams \n",
    "from nltk.corpus import webtext, stopwords\n",
    "from nltk import bigrams\n",
    "\n",
    "text_words = [w.lower() for w in webtext.words('pirates.txt') if w not in stop_words and len(w)>3]\n",
    "freq = FreqDist(text_words)\n",
    "\n",
    "freq.most_common(20)"
   ]
  },
  {
   "cell_type": "code",
   "execution_count": 56,
   "id": "8f0b1924-247f-4905-b0cd-1f28124fe9cd",
   "metadata": {},
   "outputs": [
    {
     "data": {
      "image/png": "[encoded data removed]",
      "text/plain": [
       "<Figure size 432x288 with 1 Axes>"
      ]
     },
     "metadata": {
      "needs_background": "light"
     },
     "output_type": "display_data"
    },
    {
     "data": {
      "text/plain": [
       "<AxesSubplot:xlabel='Samples', ylabel='Counts'>"
      ]
     },
     "execution_count": 56,
     "metadata": {},
     "output_type": "execute_result"
    }
   ],
   "source": [
    "#The most 20 frequent \n",
    "freq.plot(20)"
   ]
  },
  {
   "cell_type": "code",
   "execution_count": 57,
   "id": "09703cc8-58af-489c-98bb-f676a7217e90",
   "metadata": {},
   "outputs": [
    {
     "data": {
      "text/plain": [
       "[(('jack', 'sparrow'), 222),\n",
       " (('will', 'turner'), 135),\n",
       " (('elizabeth', 'swann'), 93),\n",
       " (('davy', 'jones'), 58),\n",
       " (('black', 'pearl'), 37),\n",
       " (('flying', 'dutchman'), 37),\n",
       " (('lord', 'cutler'), 35),\n",
       " (('cutler', 'beckett'), 35),\n",
       " (('pintel', 'ragetti'), 24),\n",
       " (('cannibal', 'island'), 14),\n",
       " (('jack', 'jack'), 13),\n",
       " (('scene', 'cannibal'), 13),\n",
       " (('turner', 'jack'), 12),\n",
       " (('port', 'royal'), 11),\n",
       " (('sparrow', 'jack'), 11),\n",
       " (('captain', 'jack'), 10),\n",
       " (('turner', 'what'), 10),\n",
       " (('bamboo', 'pole'), 9),\n",
       " (('swann', 'will'), 8),\n",
       " (('scene', 'black'), 8)]"
      ]
     },
     "execution_count": 57,
     "metadata": {},
     "output_type": "execute_result"
    }
   ],
   "source": [
    "#Bigram words \n",
    "bigram = bigrams(text_words)\n",
    "freq = FreqDist(bigram)\n",
    "freq.most_common(20)"
   ]
  },
  {
   "cell_type": "code",
   "execution_count": 58,
   "id": "f650a276-d4dc-439d-b79a-cbc759e78398",
   "metadata": {},
   "outputs": [
    {
     "data": {
      "text/plain": [
       "[(('lord', 'cutler', 'beckett'), 35),\n",
       " (('scene', 'cannibal', 'island'), 13),\n",
       " (('will', 'turner', 'jack'), 11),\n",
       " (('will', 'turner', 'what'), 10),\n",
       " (('captain', 'jack', 'sparrow'), 9),\n",
       " (('jack', 'sparrow', 'jack'), 9),\n",
       " (('jack', 'jack', 'sparrow'), 9),\n",
       " (('elizabeth', 'swann', 'will'), 8),\n",
       " (('scene', 'black', 'pearl'), 8),\n",
       " (('flying', 'dutchman', 'deck'), 8),\n",
       " (('elizabeth', 'swann', 'jack'), 7),\n",
       " (('jack', 'sparrow', 'gibbs'), 5),\n",
       " (('gibbs', 'jack', 'sparrow'), 5),\n",
       " (('jack', 'sparrow', 'come'), 5),\n",
       " (('east', 'india', 'trading'), 5),\n",
       " (('india', 'trading', 'company'), 5),\n",
       " (('sparrow', 'will', 'turner'), 5),\n",
       " (('sparrow', 'jack', 'sparrow'), 5),\n",
       " (('jack', 'sparrow', 'will'), 5),\n",
       " (('back', 'jack', 'sparrow'), 5)]"
      ]
     },
     "execution_count": 58,
     "metadata": {},
     "output_type": "execute_result"
    }
   ],
   "source": [
    "#Trigram words \n",
    "from nltk import trigrams\n",
    "\n",
    "trigram = trigrams(text_words)\n",
    "freq = FreqDist(trigram)\n",
    "\n",
    "freq.most_common(20)"
   ]
  },
  {
   "cell_type": "code",
   "execution_count": 59,
   "id": "abece6f6-8323-4283-94e9-84e96f866ccf",
   "metadata": {},
   "outputs": [
    {
     "data": {
      "text/plain": [
       "['አዳማ',\n",
       " 'ሳይንስና',\n",
       " 'ቴክኖሎጂ',\n",
       " 'ዩኒቨርሲቲ',\n",
       " 'ያቀዳቸዉን',\n",
       " 'እስትራቴጂክ',\n",
       " 'ግቦች',\n",
       " '፣',\n",
       " 'ብሎም',\n",
       " 'በሀገሪቱ',\n",
       " 'የታሰበውን',\n",
       " 'የኢኮኖሚ',\n",
       " 'ዕድገት',\n",
       " 'ዕውን',\n",
       " 'ለማድረግ',\n",
       " 'የበኩሉን',\n",
       " 'ድርሻ',\n",
       " 'በብቃት',\n",
       " 'ለመወጣት',\n",
       " 'ተግቶ',\n",
       " 'እየሠራ',\n",
       " 'ነው',\n",
       " '፡፡',\n",
       " 'የምርምርና',\n",
       " 'ቴክኖሎጂ',\n",
       " 'ሽግግር',\n",
       " 'ዘርፍም',\n",
       " 'ከአዳማ',\n",
       " 'ሳይንስና',\n",
       " 'ቴክኖሎጂ',\n",
       " 'ዩኒቨርሲቲ',\n",
       " 'የተቀመጠለትን',\n",
       " 'አቅጣጫ',\n",
       " 'መሰረት',\n",
       " 'በማድረግና',\n",
       " 'ለማሳካት',\n",
       " 'በአዳማ',\n",
       " 'ሳይንስና',\n",
       " 'ቴክኖሎጂ',\n",
       " 'ዩኒቨርሲቲ',\n",
       " 'የምርምርና',\n",
       " 'ቴክኖሎጂ',\n",
       " 'ሽግግር',\n",
       " 'ምክትል',\n",
       " 'ፕሬዝደንት',\n",
       " 'ጽ/ቤት',\n",
       " 'የሚጠበቅበትን',\n",
       " 'ድርሻ',\n",
       " 'ለመወጣት',\n",
       " '፣',\n",
       " 'አራት',\n",
       " 'ዋና',\n",
       " 'ዋና',\n",
       " 'የስራ',\n",
       " 'ክፍሎች',\n",
       " 'ማለትም',\n",
       " ':',\n",
       " 'በምርምር',\n",
       " 'ጉዳዮች',\n",
       " '፣',\n",
       " 'በምርምር',\n",
       " 'ፓርክና',\n",
       " 'ቴክኖሎጂ',\n",
       " 'ሽግግር፣',\n",
       " 'በቴክኖሎጂ',\n",
       " 'ማዕከለት',\n",
       " 'እና',\n",
       " 'ይህንን',\n",
       " 'የእኮኖሚ',\n",
       " 'ዕድገት',\n",
       " 'ዕዉን',\n",
       " 'ለማድረግ',\n",
       " 'የተቋቋሙት',\n",
       " 'የምርምር',\n",
       " 'ልዕቀት',\n",
       " 'ማዕከላት',\n",
       " 'ድርሻ',\n",
       " 'የጎላ',\n",
       " 'አስተዉጾ',\n",
       " 'እንደላዉ',\n",
       " 'በሚታመንበት',\n",
       " 'የልህቀት',\n",
       " 'ማዕከል',\n",
       " 'ጽ/ቤቶች',\n",
       " 'እራሱን',\n",
       " 'በማደራጀት',\n",
       " 'ያላሰለሰ',\n",
       " 'ጥረት',\n",
       " 'በማድረግ',\n",
       " 'ላይ',\n",
       " 'ይገኛል',\n",
       " '፡፡']"
      ]
     },
     "execution_count": 59,
     "metadata": {},
     "output_type": "execute_result"
    }
   ],
   "source": [
    "from collections import Counter\n",
    "\n",
    "# Tokenization\n",
    "sentence = \"\"\"አዳማ ሳይንስና ቴክኖሎጂ ዩኒቨርሲቲ ያቀዳቸዉን እስትራቴጂክ ግቦች ፣ \n",
    "ብሎም በሀገሪቱ የታሰበውን የኢኮኖሚ ዕድገት ዕውን ለማድረግ የበኩሉን ድርሻ በብቃት \n",
    "ለመወጣት ተግቶ እየሠራ ነው ፡፡ የምርምርና ቴክኖሎጂ ሽግግር ዘርፍም ከአዳማ ሳይንስና \n",
    "ቴክኖሎጂ ዩኒቨርሲቲ የተቀመጠለትን አቅጣጫ መሰረት በማድረግና  ለማሳካት በአዳማ ሳይንስና \n",
    "ቴክኖሎጂ ዩኒቨርሲቲ የምርምርና ቴክኖሎጂ ሽግግር ምክትል ፕሬዝደንት ጽ/ቤት \n",
    "የሚጠበቅበትን ድርሻ ለመወጣት ፣  አራት ዋና ዋና   የስራ ክፍሎች ማለትም : በምርምር \n",
    "ጉዳዮች ፣ በምርምር ፓርክና ቴክኖሎጂ ሽግግር፣ በቴክኖሎጂ ማዕከለት እና ይህንን የእኮኖሚ \n",
    "ዕድገት ዕዉን ለማድረግ የተቋቋሙት የምርምር ልዕቀት ማዕከላት ድርሻ የጎላ አስተዉጾ \n",
    "እንደላዉ በሚታመንበት  የልህቀት ማዕከል  ጽ/ቤቶች  እራሱን በማደራጀት ያላሰለሰ ጥረት \n",
    "በማድረግ ላይ ይገኛል ፡፡\"\"\"\n",
    "str.split(sentence)"
   ]
  },
  {
   "cell_type": "code",
   "execution_count": 60,
   "id": "21f7cff9-e468-4298-af64-969b42d377f6",
   "metadata": {},
   "outputs": [
    {
     "name": "stdout",
     "output_type": "stream",
     "text": [
      "92\n"
     ]
    }
   ],
   "source": [
    "import numpy as np\n",
    "\n",
    "token_sequence = str.split(sentence)\n",
    "vocab = sorted(token_sequence)\n",
    "vocab_size = len(vocab)\n",
    "print(vocab_size)"
   ]
  },
  {
   "cell_type": "code",
   "execution_count": 61,
   "id": "e3a08dd8-141e-41ce-85df-f9176e6a3a8f",
   "metadata": {},
   "outputs": [
    {
     "name": "stdout",
     "output_type": "stream",
     "text": [
      "71\n"
     ]
    }
   ],
   "source": [
    "import numpy as np\n",
    "\n",
    "token_sequence = str.split(sentence)\n",
    "vocab = sorted(set(token_sequence))\n",
    "vocab_size = len(vocab)\n",
    "print(vocab_size)"
   ]
  },
  {
   "cell_type": "code",
   "execution_count": 63,
   "id": "4bfc4233-6d6e-4404-90d6-343843abf5d7",
   "metadata": {},
   "outputs": [
    {
     "name": "stdout",
     "output_type": "stream",
     "text": [
      "Collecting pandas\n",
      "  Downloading pandas-1.4.1-cp39-cp39-manylinux_2_17_x86_64.manylinux2014_x86_64.whl (11.7 MB)\n",
      "\u001b[K     |████████████████████████████████| 11.7 MB 2.8 MB/s eta 0:00:01\n",
      "\u001b[?25hRequirement already satisfied: numpy>=1.18.5 in /home/studio-lab-user/.conda/envs/default/lib/python3.9/site-packages (from pandas) (1.22.3)\n",
      "Requirement already satisfied: python-dateutil>=2.8.1 in /home/studio-lab-user/.conda/envs/default/lib/python3.9/site-packages (from pandas) (2.8.2)\n",
      "Collecting pytz>=2020.1\n",
      "  Downloading pytz-2021.3-py2.py3-none-any.whl (503 kB)\n",
      "\u001b[K     |████████████████████████████████| 503 kB 80.7 MB/s eta 0:00:01\n",
      "\u001b[?25hRequirement already satisfied: six>=1.5 in /home/studio-lab-user/.conda/envs/default/lib/python3.9/site-packages (from python-dateutil>=2.8.1->pandas) (1.16.0)\n",
      "Installing collected packages: pytz, pandas\n",
      "Successfully installed pandas-1.4.1 pytz-2021.3\n"
     ]
    }
   ],
   "source": [
    "!pip install pandas"
   ]
  }
 ],
 "metadata": {
  "kernelspec": {
   "display_name": "Python 3 (ipykernel)",
   "language": "python",
   "name": "python3"
  },
  "language_info": {
   "codemirror_mode": {
    "name": "ipython",
    "version": 3
   },
   "file_extension": ".py",
   "mimetype": "text/x-python",
   "name": "python",
   "nbconvert_exporter": "python",
   "pygments_lexer": "ipython3",
   "version": "3.9.7"
  }
 },
 "nbformat": 4,
 "nbformat_minor": 5
}
